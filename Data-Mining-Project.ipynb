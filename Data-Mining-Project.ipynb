{
 "cells": [
  {
   "cell_type": "code",
   "execution_count": 1,
   "metadata": {
    "scrolled": true
   },
   "outputs": [],
   "source": [
    "import pandas as pd\n",
    "import numpy as np\n",
    "from sklearn import metrics\n",
    "from sklearn.metrics import classification_report\n",
    "from sklearn.model_selection import train_test_split\n",
    "from sklearn.linear_model import LogisticRegression\n",
    "from sklearn.linear_model import LinearRegression\n",
    "from sklearn.tree import DecisionTreeClassifier\n",
    "from sklearn import preprocessing\n",
    "import matplotlib.pyplot as plt"
   ]
  },
  {
   "cell_type": "code",
   "execution_count": 2,
   "metadata": {
    "scrolled": true
   },
   "outputs": [
    {
     "output_type": "execute_result",
     "data": {
      "text/plain": [
       "       CaseCode   Age  AgeGroup     Sex DateSpecimen DateResultRelease  \\\n",
       "0       C281814  74.0  70 to 74    MALE   2020-07-25        2020-07-27   \n",
       "1       C592217  33.0  30 to 34    MALE   2020-07-16        2020-07-21   \n",
       "2       C865185  30.0  30 to 34  FEMALE   2020-07-17        2020-07-21   \n",
       "3       C460178   4.0    0 to 4  FEMALE   2020-07-20        2020-07-20   \n",
       "4       C898472  29.0  25 to 29  FEMALE          NaN        2020-04-22   \n",
       "...         ...   ...       ...     ...          ...               ...   \n",
       "365794  C881229  29.0  25 to 29    MALE   2020-09-09        2020-09-13   \n",
       "365795  C217601  26.0  25 to 29  FEMALE   2020-09-09        2020-09-13   \n",
       "365796  C955729  35.0  35 to 39    MALE   2020-10-08        2020-10-11   \n",
       "365797  C768847  46.0  45 to 49  FEMALE   2020-08-24        2020-08-28   \n",
       "365798  C138460   1.0    0 to 4    MALE   2020-08-24        2020-08-28   \n",
       "\n",
       "       DateRepConf DateDied DateRecover RemovalType  ...  ProvRes  \\\n",
       "0       2020-07-31      NaN         NaN   RECOVERED  ...      NaN   \n",
       "1       2020-07-25      NaN  2020-08-06   RECOVERED  ...      NCR   \n",
       "2       2020-07-25      NaN         NaN   RECOVERED  ...      NCR   \n",
       "3       2020-07-30      NaN         NaN   RECOVERED  ...      NaN   \n",
       "4       2020-04-23      NaN  2020-05-10   RECOVERED  ...      NCR   \n",
       "...            ...      ...         ...         ...  ...      ...   \n",
       "365794  2020-09-16      NaN  2020-09-24   RECOVERED  ...  ROMBLON   \n",
       "365795  2020-09-16      NaN  2020-09-24   RECOVERED  ...  ROMBLON   \n",
       "365796  2020-10-14      NaN         NaN         NaN  ...  ROMBLON   \n",
       "365797  2020-08-30      NaN  2020-09-07   RECOVERED  ...  ROMBLON   \n",
       "365798  2020-08-30      NaN  2020-09-07   RECOVERED  ...  ROMBLON   \n",
       "\n",
       "                  CityMunRes CityMuniPSGC BarangayRes BarangayPSGC  \\\n",
       "0                        NaN          NaN         NaN          NaN   \n",
       "1                        NaN          NaN         NaN          NaN   \n",
       "2                        NaN          NaN         NaN          NaN   \n",
       "3                        NaN          NaN         NaN          NaN   \n",
       "4              CALOOCAN CITY  PH137501000         NaN          NaN   \n",
       "...                      ...          ...         ...          ...   \n",
       "365794             CALATRAVA  PH175904000      BALOGO  PH175904001   \n",
       "365795             CALATRAVA  PH175904000      BALOGO  PH175904001   \n",
       "365796          SAN FERNANDO  PH175913000   POBLACION  PH175913011   \n",
       "365797  SANTA MARIA (IMELDA)  PH175917000         NaN          NaN   \n",
       "365798  SANTA MARIA (IMELDA)  PH175917000         NaN          NaN   \n",
       "\n",
       "       HealthStatus Quarantined   DateOnset Pregnanttab  \\\n",
       "0         RECOVERED          NO         NaN         NaN   \n",
       "1         RECOVERED         YES         NaN         NaN   \n",
       "2         RECOVERED          NO         NaN          NO   \n",
       "3         RECOVERED          NO         NaN          NO   \n",
       "4         RECOVERED          NO  2020-04-15          NO   \n",
       "...             ...         ...         ...         ...   \n",
       "365794    RECOVERED         YES         NaN         NaN   \n",
       "365795    RECOVERED         YES         NaN          NO   \n",
       "365796         MILD         YES  2020-10-05         NaN   \n",
       "365797    RECOVERED         YES  2020-08-20          NO   \n",
       "365798    RECOVERED         YES  2020-08-20         NaN   \n",
       "\n",
       "                                         ValidationStatus  \n",
       "0       Removal Type is \"Recovered\", but no Recovered ...  \n",
       "1                                                     NaN  \n",
       "2       Health Status is \"Recovered\", but no Date Reco...  \n",
       "3       Health Status is \"Recovered\", but no Date Reco...  \n",
       "4                                                     NaN  \n",
       "...                                                   ...  \n",
       "365794                                                NaN  \n",
       "365795                                                NaN  \n",
       "365796                                                NaN  \n",
       "365797                                                NaN  \n",
       "365798  Unexpected change in Age\\nAge or Birthdate is ...  \n",
       "\n",
       "[365799 rows x 22 columns]"
      ],
      "text/html": "<div>\n<style scoped>\n    .dataframe tbody tr th:only-of-type {\n        vertical-align: middle;\n    }\n\n    .dataframe tbody tr th {\n        vertical-align: top;\n    }\n\n    .dataframe thead th {\n        text-align: right;\n    }\n</style>\n<table border=\"1\" class=\"dataframe\">\n  <thead>\n    <tr style=\"text-align: right;\">\n      <th></th>\n      <th>CaseCode</th>\n      <th>Age</th>\n      <th>AgeGroup</th>\n      <th>Sex</th>\n      <th>DateSpecimen</th>\n      <th>DateResultRelease</th>\n      <th>DateRepConf</th>\n      <th>DateDied</th>\n      <th>DateRecover</th>\n      <th>RemovalType</th>\n      <th>...</th>\n      <th>ProvRes</th>\n      <th>CityMunRes</th>\n      <th>CityMuniPSGC</th>\n      <th>BarangayRes</th>\n      <th>BarangayPSGC</th>\n      <th>HealthStatus</th>\n      <th>Quarantined</th>\n      <th>DateOnset</th>\n      <th>Pregnanttab</th>\n      <th>ValidationStatus</th>\n    </tr>\n  </thead>\n  <tbody>\n    <tr>\n      <th>0</th>\n      <td>C281814</td>\n      <td>74.0</td>\n      <td>70 to 74</td>\n      <td>MALE</td>\n      <td>2020-07-25</td>\n      <td>2020-07-27</td>\n      <td>2020-07-31</td>\n      <td>NaN</td>\n      <td>NaN</td>\n      <td>RECOVERED</td>\n      <td>...</td>\n      <td>NaN</td>\n      <td>NaN</td>\n      <td>NaN</td>\n      <td>NaN</td>\n      <td>NaN</td>\n      <td>RECOVERED</td>\n      <td>NO</td>\n      <td>NaN</td>\n      <td>NaN</td>\n      <td>Removal Type is \"Recovered\", but no Recovered ...</td>\n    </tr>\n    <tr>\n      <th>1</th>\n      <td>C592217</td>\n      <td>33.0</td>\n      <td>30 to 34</td>\n      <td>MALE</td>\n      <td>2020-07-16</td>\n      <td>2020-07-21</td>\n      <td>2020-07-25</td>\n      <td>NaN</td>\n      <td>2020-08-06</td>\n      <td>RECOVERED</td>\n      <td>...</td>\n      <td>NCR</td>\n      <td>NaN</td>\n      <td>NaN</td>\n      <td>NaN</td>\n      <td>NaN</td>\n      <td>RECOVERED</td>\n      <td>YES</td>\n      <td>NaN</td>\n      <td>NaN</td>\n      <td>NaN</td>\n    </tr>\n    <tr>\n      <th>2</th>\n      <td>C865185</td>\n      <td>30.0</td>\n      <td>30 to 34</td>\n      <td>FEMALE</td>\n      <td>2020-07-17</td>\n      <td>2020-07-21</td>\n      <td>2020-07-25</td>\n      <td>NaN</td>\n      <td>NaN</td>\n      <td>RECOVERED</td>\n      <td>...</td>\n      <td>NCR</td>\n      <td>NaN</td>\n      <td>NaN</td>\n      <td>NaN</td>\n      <td>NaN</td>\n      <td>RECOVERED</td>\n      <td>NO</td>\n      <td>NaN</td>\n      <td>NO</td>\n      <td>Health Status is \"Recovered\", but no Date Reco...</td>\n    </tr>\n    <tr>\n      <th>3</th>\n      <td>C460178</td>\n      <td>4.0</td>\n      <td>0 to 4</td>\n      <td>FEMALE</td>\n      <td>2020-07-20</td>\n      <td>2020-07-20</td>\n      <td>2020-07-30</td>\n      <td>NaN</td>\n      <td>NaN</td>\n      <td>RECOVERED</td>\n      <td>...</td>\n      <td>NaN</td>\n      <td>NaN</td>\n      <td>NaN</td>\n      <td>NaN</td>\n      <td>NaN</td>\n      <td>RECOVERED</td>\n      <td>NO</td>\n      <td>NaN</td>\n      <td>NO</td>\n      <td>Health Status is \"Recovered\", but no Date Reco...</td>\n    </tr>\n    <tr>\n      <th>4</th>\n      <td>C898472</td>\n      <td>29.0</td>\n      <td>25 to 29</td>\n      <td>FEMALE</td>\n      <td>NaN</td>\n      <td>2020-04-22</td>\n      <td>2020-04-23</td>\n      <td>NaN</td>\n      <td>2020-05-10</td>\n      <td>RECOVERED</td>\n      <td>...</td>\n      <td>NCR</td>\n      <td>CALOOCAN CITY</td>\n      <td>PH137501000</td>\n      <td>NaN</td>\n      <td>NaN</td>\n      <td>RECOVERED</td>\n      <td>NO</td>\n      <td>2020-04-15</td>\n      <td>NO</td>\n      <td>NaN</td>\n    </tr>\n    <tr>\n      <th>...</th>\n      <td>...</td>\n      <td>...</td>\n      <td>...</td>\n      <td>...</td>\n      <td>...</td>\n      <td>...</td>\n      <td>...</td>\n      <td>...</td>\n      <td>...</td>\n      <td>...</td>\n      <td>...</td>\n      <td>...</td>\n      <td>...</td>\n      <td>...</td>\n      <td>...</td>\n      <td>...</td>\n      <td>...</td>\n      <td>...</td>\n      <td>...</td>\n      <td>...</td>\n      <td>...</td>\n    </tr>\n    <tr>\n      <th>365794</th>\n      <td>C881229</td>\n      <td>29.0</td>\n      <td>25 to 29</td>\n      <td>MALE</td>\n      <td>2020-09-09</td>\n      <td>2020-09-13</td>\n      <td>2020-09-16</td>\n      <td>NaN</td>\n      <td>2020-09-24</td>\n      <td>RECOVERED</td>\n      <td>...</td>\n      <td>ROMBLON</td>\n      <td>CALATRAVA</td>\n      <td>PH175904000</td>\n      <td>BALOGO</td>\n      <td>PH175904001</td>\n      <td>RECOVERED</td>\n      <td>YES</td>\n      <td>NaN</td>\n      <td>NaN</td>\n      <td>NaN</td>\n    </tr>\n    <tr>\n      <th>365795</th>\n      <td>C217601</td>\n      <td>26.0</td>\n      <td>25 to 29</td>\n      <td>FEMALE</td>\n      <td>2020-09-09</td>\n      <td>2020-09-13</td>\n      <td>2020-09-16</td>\n      <td>NaN</td>\n      <td>2020-09-24</td>\n      <td>RECOVERED</td>\n      <td>...</td>\n      <td>ROMBLON</td>\n      <td>CALATRAVA</td>\n      <td>PH175904000</td>\n      <td>BALOGO</td>\n      <td>PH175904001</td>\n      <td>RECOVERED</td>\n      <td>YES</td>\n      <td>NaN</td>\n      <td>NO</td>\n      <td>NaN</td>\n    </tr>\n    <tr>\n      <th>365796</th>\n      <td>C955729</td>\n      <td>35.0</td>\n      <td>35 to 39</td>\n      <td>MALE</td>\n      <td>2020-10-08</td>\n      <td>2020-10-11</td>\n      <td>2020-10-14</td>\n      <td>NaN</td>\n      <td>NaN</td>\n      <td>NaN</td>\n      <td>...</td>\n      <td>ROMBLON</td>\n      <td>SAN FERNANDO</td>\n      <td>PH175913000</td>\n      <td>POBLACION</td>\n      <td>PH175913011</td>\n      <td>MILD</td>\n      <td>YES</td>\n      <td>2020-10-05</td>\n      <td>NaN</td>\n      <td>NaN</td>\n    </tr>\n    <tr>\n      <th>365797</th>\n      <td>C768847</td>\n      <td>46.0</td>\n      <td>45 to 49</td>\n      <td>FEMALE</td>\n      <td>2020-08-24</td>\n      <td>2020-08-28</td>\n      <td>2020-08-30</td>\n      <td>NaN</td>\n      <td>2020-09-07</td>\n      <td>RECOVERED</td>\n      <td>...</td>\n      <td>ROMBLON</td>\n      <td>SANTA MARIA (IMELDA)</td>\n      <td>PH175917000</td>\n      <td>NaN</td>\n      <td>NaN</td>\n      <td>RECOVERED</td>\n      <td>YES</td>\n      <td>2020-08-20</td>\n      <td>NO</td>\n      <td>NaN</td>\n    </tr>\n    <tr>\n      <th>365798</th>\n      <td>C138460</td>\n      <td>1.0</td>\n      <td>0 to 4</td>\n      <td>MALE</td>\n      <td>2020-08-24</td>\n      <td>2020-08-28</td>\n      <td>2020-08-30</td>\n      <td>NaN</td>\n      <td>2020-09-07</td>\n      <td>RECOVERED</td>\n      <td>...</td>\n      <td>ROMBLON</td>\n      <td>SANTA MARIA (IMELDA)</td>\n      <td>PH175917000</td>\n      <td>NaN</td>\n      <td>NaN</td>\n      <td>RECOVERED</td>\n      <td>YES</td>\n      <td>2020-08-20</td>\n      <td>NaN</td>\n      <td>Unexpected change in Age\\nAge or Birthdate is ...</td>\n    </tr>\n  </tbody>\n</table>\n<p>365799 rows × 22 columns</p>\n</div>"
     },
     "metadata": {},
     "execution_count": 2
    }
   ],
   "source": [
    "data = pd.read_csv(r'DOH COVID Data Drop_ 20201023 - 04 Case Information.csv')\n",
    "data"
   ]
  },
  {
   "cell_type": "code",
   "execution_count": 3,
   "metadata": {},
   "outputs": [
    {
     "output_type": "execute_result",
     "data": {
      "text/plain": [
       "     Age\n",
       "Age  1.0"
      ],
      "text/html": "<div>\n<style scoped>\n    .dataframe tbody tr th:only-of-type {\n        vertical-align: middle;\n    }\n\n    .dataframe tbody tr th {\n        vertical-align: top;\n    }\n\n    .dataframe thead th {\n        text-align: right;\n    }\n</style>\n<table border=\"1\" class=\"dataframe\">\n  <thead>\n    <tr style=\"text-align: right;\">\n      <th></th>\n      <th>Age</th>\n    </tr>\n  </thead>\n  <tbody>\n    <tr>\n      <th>Age</th>\n      <td>1.0</td>\n    </tr>\n  </tbody>\n</table>\n</div>"
     },
     "metadata": {},
     "execution_count": 3
    }
   ],
   "source": [
    "data.corr()"
   ]
  },
  {
   "cell_type": "code",
   "execution_count": 4,
   "metadata": {
    "scrolled": true
   },
   "outputs": [
    {
     "output_type": "stream",
     "name": "stdout",
     "text": [
      "<class 'pandas.core.frame.DataFrame'>\nRangeIndex: 365799 entries, 0 to 365798\nData columns (total 22 columns):\n #   Column             Non-Null Count   Dtype  \n---  ------             --------------   -----  \n 0   CaseCode           365799 non-null  object \n 1   Age                363606 non-null  float64\n 2   AgeGroup           363606 non-null  object \n 3   Sex                365799 non-null  object \n 4   DateSpecimen       309198 non-null  object \n 5   DateResultRelease  310344 non-null  object \n 6   DateRepConf        365799 non-null  object \n 7   DateDied           6880 non-null    object \n 8   DateRecover        84903 non-null   object \n 9   RemovalType        319606 non-null  object \n 10  Admitted           365648 non-null  object \n 11  RegionRes          362100 non-null  object \n 12  ProvRes            340886 non-null  object \n 13  CityMunRes         330338 non-null  object \n 14  CityMuniPSGC       330338 non-null  object \n 15  BarangayRes        137015 non-null  object \n 16  BarangayPSGC       137015 non-null  object \n 17  HealthStatus       365799 non-null  object \n 18  Quarantined        365644 non-null  object \n 19  DateOnset          116635 non-null  object \n 20  Pregnanttab        164884 non-null  object \n 21  ValidationStatus   239822 non-null  object \ndtypes: float64(1), object(21)\nmemory usage: 61.4+ MB\n"
     ]
    }
   ],
   "source": [
    "data.info()"
   ]
  },
  {
   "cell_type": "code",
   "execution_count": 5,
   "metadata": {},
   "outputs": [
    {
     "output_type": "execute_result",
     "data": {
      "text/plain": [
       "         Age DateSpecimen              RegionRes            CityMunRes  \\\n",
       "0       74.0   2020-07-25                    NCR                   NaN   \n",
       "1       33.0   2020-07-16                    NCR                   NaN   \n",
       "2       30.0   2020-07-17                    NCR                   NaN   \n",
       "3        4.0   2020-07-20                    NCR                   NaN   \n",
       "4       29.0          NaN                    NCR         CALOOCAN CITY   \n",
       "...      ...          ...                    ...                   ...   \n",
       "365794  29.0   2020-09-09  Region IV-B: MIMAROPA             CALATRAVA   \n",
       "365795  26.0   2020-09-09  Region IV-B: MIMAROPA             CALATRAVA   \n",
       "365796  35.0   2020-10-08  Region IV-B: MIMAROPA          SAN FERNANDO   \n",
       "365797  46.0   2020-08-24  Region IV-B: MIMAROPA  SANTA MARIA (IMELDA)   \n",
       "365798   1.0   2020-08-24  Region IV-B: MIMAROPA  SANTA MARIA (IMELDA)   \n",
       "\n",
       "       HealthStatus Quarantined  \n",
       "0         RECOVERED          NO  \n",
       "1         RECOVERED         YES  \n",
       "2         RECOVERED          NO  \n",
       "3         RECOVERED          NO  \n",
       "4         RECOVERED          NO  \n",
       "...             ...         ...  \n",
       "365794    RECOVERED         YES  \n",
       "365795    RECOVERED         YES  \n",
       "365796         MILD         YES  \n",
       "365797    RECOVERED         YES  \n",
       "365798    RECOVERED         YES  \n",
       "\n",
       "[365799 rows x 6 columns]"
      ],
      "text/html": "<div>\n<style scoped>\n    .dataframe tbody tr th:only-of-type {\n        vertical-align: middle;\n    }\n\n    .dataframe tbody tr th {\n        vertical-align: top;\n    }\n\n    .dataframe thead th {\n        text-align: right;\n    }\n</style>\n<table border=\"1\" class=\"dataframe\">\n  <thead>\n    <tr style=\"text-align: right;\">\n      <th></th>\n      <th>Age</th>\n      <th>DateSpecimen</th>\n      <th>RegionRes</th>\n      <th>CityMunRes</th>\n      <th>HealthStatus</th>\n      <th>Quarantined</th>\n    </tr>\n  </thead>\n  <tbody>\n    <tr>\n      <th>0</th>\n      <td>74.0</td>\n      <td>2020-07-25</td>\n      <td>NCR</td>\n      <td>NaN</td>\n      <td>RECOVERED</td>\n      <td>NO</td>\n    </tr>\n    <tr>\n      <th>1</th>\n      <td>33.0</td>\n      <td>2020-07-16</td>\n      <td>NCR</td>\n      <td>NaN</td>\n      <td>RECOVERED</td>\n      <td>YES</td>\n    </tr>\n    <tr>\n      <th>2</th>\n      <td>30.0</td>\n      <td>2020-07-17</td>\n      <td>NCR</td>\n      <td>NaN</td>\n      <td>RECOVERED</td>\n      <td>NO</td>\n    </tr>\n    <tr>\n      <th>3</th>\n      <td>4.0</td>\n      <td>2020-07-20</td>\n      <td>NCR</td>\n      <td>NaN</td>\n      <td>RECOVERED</td>\n      <td>NO</td>\n    </tr>\n    <tr>\n      <th>4</th>\n      <td>29.0</td>\n      <td>NaN</td>\n      <td>NCR</td>\n      <td>CALOOCAN CITY</td>\n      <td>RECOVERED</td>\n      <td>NO</td>\n    </tr>\n    <tr>\n      <th>...</th>\n      <td>...</td>\n      <td>...</td>\n      <td>...</td>\n      <td>...</td>\n      <td>...</td>\n      <td>...</td>\n    </tr>\n    <tr>\n      <th>365794</th>\n      <td>29.0</td>\n      <td>2020-09-09</td>\n      <td>Region IV-B: MIMAROPA</td>\n      <td>CALATRAVA</td>\n      <td>RECOVERED</td>\n      <td>YES</td>\n    </tr>\n    <tr>\n      <th>365795</th>\n      <td>26.0</td>\n      <td>2020-09-09</td>\n      <td>Region IV-B: MIMAROPA</td>\n      <td>CALATRAVA</td>\n      <td>RECOVERED</td>\n      <td>YES</td>\n    </tr>\n    <tr>\n      <th>365796</th>\n      <td>35.0</td>\n      <td>2020-10-08</td>\n      <td>Region IV-B: MIMAROPA</td>\n      <td>SAN FERNANDO</td>\n      <td>MILD</td>\n      <td>YES</td>\n    </tr>\n    <tr>\n      <th>365797</th>\n      <td>46.0</td>\n      <td>2020-08-24</td>\n      <td>Region IV-B: MIMAROPA</td>\n      <td>SANTA MARIA (IMELDA)</td>\n      <td>RECOVERED</td>\n      <td>YES</td>\n    </tr>\n    <tr>\n      <th>365798</th>\n      <td>1.0</td>\n      <td>2020-08-24</td>\n      <td>Region IV-B: MIMAROPA</td>\n      <td>SANTA MARIA (IMELDA)</td>\n      <td>RECOVERED</td>\n      <td>YES</td>\n    </tr>\n  </tbody>\n</table>\n<p>365799 rows × 6 columns</p>\n</div>"
     },
     "metadata": {},
     "execution_count": 5
    }
   ],
   "source": [
    "df = data.drop('CaseCode', axis=1)\n",
    "df = df.drop(df.loc[:,'AgeGroup':'Sex'].columns, axis=1)\n",
    "df = df.drop(df.loc[:, 'DateResultRelease':'Admitted'].columns, axis=1)\n",
    "df = df.drop('ProvRes', axis=1)\n",
    "df = df.drop(df.loc[:, 'CityMuniPSGC':'BarangayPSGC'].columns, axis=1)\n",
    "df = df.drop(df.loc[:, 'DateOnset':'ValidationStatus'].columns, axis=1)\n",
    "df"
   ]
  },
  {
   "cell_type": "code",
   "execution_count": 6,
   "metadata": {},
   "outputs": [
    {
     "output_type": "execute_result",
     "data": {
      "text/plain": [
       "['Age',\n",
       " 'DateSpecimen',\n",
       " 'RegionRes',\n",
       " 'CityMunRes',\n",
       " 'HealthStatus',\n",
       " 'Quarantined']"
      ]
     },
     "metadata": {},
     "execution_count": 6
    }
   ],
   "source": [
    "titles = list(df.columns)\n",
    "titles"
   ]
  },
  {
   "cell_type": "code",
   "execution_count": 7,
   "metadata": {},
   "outputs": [
    {
     "output_type": "execute_result",
     "data": {
      "text/plain": [
       "['Age',\n",
       " 'DateSpecimen',\n",
       " 'CityMunRes',\n",
       " 'RegionRes',\n",
       " 'Quarantined',\n",
       " 'HealthStatus']"
      ]
     },
     "metadata": {},
     "execution_count": 7
    }
   ],
   "source": [
    "titles[4], titles[5] = titles[5], titles[4]\n",
    "titles[2], titles[3] = titles[3], titles[2]\n",
    "titles"
   ]
  },
  {
   "cell_type": "code",
   "execution_count": 8,
   "metadata": {},
   "outputs": [
    {
     "output_type": "execute_result",
     "data": {
      "text/plain": [
       "         Age DateSpecimen            CityMunRes              RegionRes  \\\n",
       "0       74.0   2020-07-25                   NaN                    NCR   \n",
       "1       33.0   2020-07-16                   NaN                    NCR   \n",
       "2       30.0   2020-07-17                   NaN                    NCR   \n",
       "3        4.0   2020-07-20                   NaN                    NCR   \n",
       "4       29.0          NaN         CALOOCAN CITY                    NCR   \n",
       "...      ...          ...                   ...                    ...   \n",
       "365794  29.0   2020-09-09             CALATRAVA  Region IV-B: MIMAROPA   \n",
       "365795  26.0   2020-09-09             CALATRAVA  Region IV-B: MIMAROPA   \n",
       "365796  35.0   2020-10-08          SAN FERNANDO  Region IV-B: MIMAROPA   \n",
       "365797  46.0   2020-08-24  SANTA MARIA (IMELDA)  Region IV-B: MIMAROPA   \n",
       "365798   1.0   2020-08-24  SANTA MARIA (IMELDA)  Region IV-B: MIMAROPA   \n",
       "\n",
       "       Quarantined HealthStatus  \n",
       "0               NO    RECOVERED  \n",
       "1              YES    RECOVERED  \n",
       "2               NO    RECOVERED  \n",
       "3               NO    RECOVERED  \n",
       "4               NO    RECOVERED  \n",
       "...            ...          ...  \n",
       "365794         YES    RECOVERED  \n",
       "365795         YES    RECOVERED  \n",
       "365796         YES         MILD  \n",
       "365797         YES    RECOVERED  \n",
       "365798         YES    RECOVERED  \n",
       "\n",
       "[365799 rows x 6 columns]"
      ],
      "text/html": "<div>\n<style scoped>\n    .dataframe tbody tr th:only-of-type {\n        vertical-align: middle;\n    }\n\n    .dataframe tbody tr th {\n        vertical-align: top;\n    }\n\n    .dataframe thead th {\n        text-align: right;\n    }\n</style>\n<table border=\"1\" class=\"dataframe\">\n  <thead>\n    <tr style=\"text-align: right;\">\n      <th></th>\n      <th>Age</th>\n      <th>DateSpecimen</th>\n      <th>CityMunRes</th>\n      <th>RegionRes</th>\n      <th>Quarantined</th>\n      <th>HealthStatus</th>\n    </tr>\n  </thead>\n  <tbody>\n    <tr>\n      <th>0</th>\n      <td>74.0</td>\n      <td>2020-07-25</td>\n      <td>NaN</td>\n      <td>NCR</td>\n      <td>NO</td>\n      <td>RECOVERED</td>\n    </tr>\n    <tr>\n      <th>1</th>\n      <td>33.0</td>\n      <td>2020-07-16</td>\n      <td>NaN</td>\n      <td>NCR</td>\n      <td>YES</td>\n      <td>RECOVERED</td>\n    </tr>\n    <tr>\n      <th>2</th>\n      <td>30.0</td>\n      <td>2020-07-17</td>\n      <td>NaN</td>\n      <td>NCR</td>\n      <td>NO</td>\n      <td>RECOVERED</td>\n    </tr>\n    <tr>\n      <th>3</th>\n      <td>4.0</td>\n      <td>2020-07-20</td>\n      <td>NaN</td>\n      <td>NCR</td>\n      <td>NO</td>\n      <td>RECOVERED</td>\n    </tr>\n    <tr>\n      <th>4</th>\n      <td>29.0</td>\n      <td>NaN</td>\n      <td>CALOOCAN CITY</td>\n      <td>NCR</td>\n      <td>NO</td>\n      <td>RECOVERED</td>\n    </tr>\n    <tr>\n      <th>...</th>\n      <td>...</td>\n      <td>...</td>\n      <td>...</td>\n      <td>...</td>\n      <td>...</td>\n      <td>...</td>\n    </tr>\n    <tr>\n      <th>365794</th>\n      <td>29.0</td>\n      <td>2020-09-09</td>\n      <td>CALATRAVA</td>\n      <td>Region IV-B: MIMAROPA</td>\n      <td>YES</td>\n      <td>RECOVERED</td>\n    </tr>\n    <tr>\n      <th>365795</th>\n      <td>26.0</td>\n      <td>2020-09-09</td>\n      <td>CALATRAVA</td>\n      <td>Region IV-B: MIMAROPA</td>\n      <td>YES</td>\n      <td>RECOVERED</td>\n    </tr>\n    <tr>\n      <th>365796</th>\n      <td>35.0</td>\n      <td>2020-10-08</td>\n      <td>SAN FERNANDO</td>\n      <td>Region IV-B: MIMAROPA</td>\n      <td>YES</td>\n      <td>MILD</td>\n    </tr>\n    <tr>\n      <th>365797</th>\n      <td>46.0</td>\n      <td>2020-08-24</td>\n      <td>SANTA MARIA (IMELDA)</td>\n      <td>Region IV-B: MIMAROPA</td>\n      <td>YES</td>\n      <td>RECOVERED</td>\n    </tr>\n    <tr>\n      <th>365798</th>\n      <td>1.0</td>\n      <td>2020-08-24</td>\n      <td>SANTA MARIA (IMELDA)</td>\n      <td>Region IV-B: MIMAROPA</td>\n      <td>YES</td>\n      <td>RECOVERED</td>\n    </tr>\n  </tbody>\n</table>\n<p>365799 rows × 6 columns</p>\n</div>"
     },
     "metadata": {},
     "execution_count": 8
    }
   ],
   "source": [
    "df = df[titles]\n",
    "df"
   ]
  },
  {
   "cell_type": "code",
   "execution_count": 9,
   "metadata": {},
   "outputs": [
    {
     "output_type": "execute_result",
     "data": {
      "text/plain": [
       "         Age DateSpecimen        CityMunRes RegionRes Quarantined HealthStatus\n",
       "198     24.0   2020-09-24   CITY OF NAVOTAS       NCR         YES    RECOVERED\n",
       "402     26.0   2020-10-02    CITY OF MANILA       NCR          NO         MILD\n",
       "993     88.0   2020-09-11  CITY OF SAN JUAN       NCR          NO    RECOVERED\n",
       "1190    85.0   2020-10-07     CALOOCAN CITY       NCR          NO         DIED\n",
       "1828    46.0   2020-09-21   CITY OF NAVOTAS       NCR         YES    RECOVERED\n",
       "...      ...          ...               ...       ...         ...          ...\n",
       "361617  56.0   2020-09-22       TAGUIG CITY       NCR          NO    RECOVERED\n",
       "361632  57.0   2020-09-28       TAGUIG CITY       NCR          NO    RECOVERED\n",
       "361691  41.0   2020-09-23       TAGUIG CITY       NCR          NO    RECOVERED\n",
       "361696  33.0   2020-10-02       TAGUIG CITY       NCR          NO         MILD\n",
       "361711  26.0   2020-09-18       TAGUIG CITY       NCR          NO    RECOVERED\n",
       "\n",
       "[21761 rows x 6 columns]"
      ],
      "text/html": "<div>\n<style scoped>\n    .dataframe tbody tr th:only-of-type {\n        vertical-align: middle;\n    }\n\n    .dataframe tbody tr th {\n        vertical-align: top;\n    }\n\n    .dataframe thead th {\n        text-align: right;\n    }\n</style>\n<table border=\"1\" class=\"dataframe\">\n  <thead>\n    <tr style=\"text-align: right;\">\n      <th></th>\n      <th>Age</th>\n      <th>DateSpecimen</th>\n      <th>CityMunRes</th>\n      <th>RegionRes</th>\n      <th>Quarantined</th>\n      <th>HealthStatus</th>\n    </tr>\n  </thead>\n  <tbody>\n    <tr>\n      <th>198</th>\n      <td>24.0</td>\n      <td>2020-09-24</td>\n      <td>CITY OF NAVOTAS</td>\n      <td>NCR</td>\n      <td>YES</td>\n      <td>RECOVERED</td>\n    </tr>\n    <tr>\n      <th>402</th>\n      <td>26.0</td>\n      <td>2020-10-02</td>\n      <td>CITY OF MANILA</td>\n      <td>NCR</td>\n      <td>NO</td>\n      <td>MILD</td>\n    </tr>\n    <tr>\n      <th>993</th>\n      <td>88.0</td>\n      <td>2020-09-11</td>\n      <td>CITY OF SAN JUAN</td>\n      <td>NCR</td>\n      <td>NO</td>\n      <td>RECOVERED</td>\n    </tr>\n    <tr>\n      <th>1190</th>\n      <td>85.0</td>\n      <td>2020-10-07</td>\n      <td>CALOOCAN CITY</td>\n      <td>NCR</td>\n      <td>NO</td>\n      <td>DIED</td>\n    </tr>\n    <tr>\n      <th>1828</th>\n      <td>46.0</td>\n      <td>2020-09-21</td>\n      <td>CITY OF NAVOTAS</td>\n      <td>NCR</td>\n      <td>YES</td>\n      <td>RECOVERED</td>\n    </tr>\n    <tr>\n      <th>...</th>\n      <td>...</td>\n      <td>...</td>\n      <td>...</td>\n      <td>...</td>\n      <td>...</td>\n      <td>...</td>\n    </tr>\n    <tr>\n      <th>361617</th>\n      <td>56.0</td>\n      <td>2020-09-22</td>\n      <td>TAGUIG CITY</td>\n      <td>NCR</td>\n      <td>NO</td>\n      <td>RECOVERED</td>\n    </tr>\n    <tr>\n      <th>361632</th>\n      <td>57.0</td>\n      <td>2020-09-28</td>\n      <td>TAGUIG CITY</td>\n      <td>NCR</td>\n      <td>NO</td>\n      <td>RECOVERED</td>\n    </tr>\n    <tr>\n      <th>361691</th>\n      <td>41.0</td>\n      <td>2020-09-23</td>\n      <td>TAGUIG CITY</td>\n      <td>NCR</td>\n      <td>NO</td>\n      <td>RECOVERED</td>\n    </tr>\n    <tr>\n      <th>361696</th>\n      <td>33.0</td>\n      <td>2020-10-02</td>\n      <td>TAGUIG CITY</td>\n      <td>NCR</td>\n      <td>NO</td>\n      <td>MILD</td>\n    </tr>\n    <tr>\n      <th>361711</th>\n      <td>26.0</td>\n      <td>2020-09-18</td>\n      <td>TAGUIG CITY</td>\n      <td>NCR</td>\n      <td>NO</td>\n      <td>RECOVERED</td>\n    </tr>\n  </tbody>\n</table>\n<p>21761 rows × 6 columns</p>\n</div>"
     },
     "metadata": {},
     "execution_count": 9
    }
   ],
   "source": [
    "start_date = '2020-09-10'\n",
    "end_date = '2020-10-10'\n",
    "\n",
    "df = df.loc[df['RegionRes'] == 'NCR']\n",
    "df = df.loc[(df['DateSpecimen'] >= start_date) & ((df['DateSpecimen'] <= end_date))]\n",
    "df"
   ]
  },
  {
   "cell_type": "code",
   "execution_count": 10,
   "metadata": {},
   "outputs": [
    {
     "output_type": "execute_result",
     "data": {
      "text/plain": [
       "['CITY OF NAVOTAS',\n",
       " 'CITY OF MANILA',\n",
       " 'CITY OF SAN JUAN',\n",
       " 'CALOOCAN CITY',\n",
       " 'QUEZON CITY',\n",
       " 'CITY OF MARIKINA',\n",
       " nan,\n",
       " 'CITY OF MALABON',\n",
       " 'CITY OF MAKATI',\n",
       " 'CITY OF PASIG',\n",
       " 'CITY OF MUNTINLUPA',\n",
       " 'PASAY CITY',\n",
       " 'CITY OF PARAÑAQUE',\n",
       " 'TAGUIG CITY',\n",
       " 'CITY OF MANDALUYONG',\n",
       " 'CITY OF VALENZUELA',\n",
       " 'CITY OF LAS PIÑAS',\n",
       " 'PATEROS']"
      ]
     },
     "metadata": {},
     "execution_count": 10
    }
   ],
   "source": [
    "cities = df['CityMunRes'].unique().tolist()\n",
    "#df = df.loc[(df['CityMunRes'] == 'CITY OF ANTIPOLO (CAPITAL)') | (df['CityMunRes'] == 'TAYTAY')]\n",
    "#df = df.reset_index(drop=True)\n",
    "\n",
    "cities"
   ]
  },
  {
   "cell_type": "code",
   "execution_count": 11,
   "metadata": {},
   "outputs": [
    {
     "output_type": "execute_result",
     "data": {
      "text/plain": [
       "       Age DateSpecimen      CityMunRes RegionRes Quarantined HealthStatus\n",
       "0     22.0   2020-10-01     QUEZON CITY       NCR          NO         MILD\n",
       "1     28.0   2020-09-24     QUEZON CITY       NCR          NO    RECOVERED\n",
       "2     27.0   2020-10-08     QUEZON CITY       NCR          NO         MILD\n",
       "3     59.0   2020-09-16     QUEZON CITY       NCR          NO    RECOVERED\n",
       "4     25.0   2020-09-30     QUEZON CITY       NCR          NO         MILD\n",
       "...    ...          ...             ...       ...         ...          ...\n",
       "6015  25.0   2020-09-18  CITY OF MAKATI       NCR          NO    RECOVERED\n",
       "6016  76.0   2020-09-15  CITY OF MAKATI       NCR         YES    RECOVERED\n",
       "6017   9.0   2020-09-20  CITY OF MAKATI       NCR         YES    RECOVERED\n",
       "6018  45.0   2020-09-19  CITY OF MAKATI       NCR          NO    RECOVERED\n",
       "6019  47.0   2020-09-15  CITY OF MAKATI       NCR         YES    RECOVERED\n",
       "\n",
       "[6020 rows x 6 columns]"
      ],
      "text/html": "<div>\n<style scoped>\n    .dataframe tbody tr th:only-of-type {\n        vertical-align: middle;\n    }\n\n    .dataframe tbody tr th {\n        vertical-align: top;\n    }\n\n    .dataframe thead th {\n        text-align: right;\n    }\n</style>\n<table border=\"1\" class=\"dataframe\">\n  <thead>\n    <tr style=\"text-align: right;\">\n      <th></th>\n      <th>Age</th>\n      <th>DateSpecimen</th>\n      <th>CityMunRes</th>\n      <th>RegionRes</th>\n      <th>Quarantined</th>\n      <th>HealthStatus</th>\n    </tr>\n  </thead>\n  <tbody>\n    <tr>\n      <th>0</th>\n      <td>22.0</td>\n      <td>2020-10-01</td>\n      <td>QUEZON CITY</td>\n      <td>NCR</td>\n      <td>NO</td>\n      <td>MILD</td>\n    </tr>\n    <tr>\n      <th>1</th>\n      <td>28.0</td>\n      <td>2020-09-24</td>\n      <td>QUEZON CITY</td>\n      <td>NCR</td>\n      <td>NO</td>\n      <td>RECOVERED</td>\n    </tr>\n    <tr>\n      <th>2</th>\n      <td>27.0</td>\n      <td>2020-10-08</td>\n      <td>QUEZON CITY</td>\n      <td>NCR</td>\n      <td>NO</td>\n      <td>MILD</td>\n    </tr>\n    <tr>\n      <th>3</th>\n      <td>59.0</td>\n      <td>2020-09-16</td>\n      <td>QUEZON CITY</td>\n      <td>NCR</td>\n      <td>NO</td>\n      <td>RECOVERED</td>\n    </tr>\n    <tr>\n      <th>4</th>\n      <td>25.0</td>\n      <td>2020-09-30</td>\n      <td>QUEZON CITY</td>\n      <td>NCR</td>\n      <td>NO</td>\n      <td>MILD</td>\n    </tr>\n    <tr>\n      <th>...</th>\n      <td>...</td>\n      <td>...</td>\n      <td>...</td>\n      <td>...</td>\n      <td>...</td>\n      <td>...</td>\n    </tr>\n    <tr>\n      <th>6015</th>\n      <td>25.0</td>\n      <td>2020-09-18</td>\n      <td>CITY OF MAKATI</td>\n      <td>NCR</td>\n      <td>NO</td>\n      <td>RECOVERED</td>\n    </tr>\n    <tr>\n      <th>6016</th>\n      <td>76.0</td>\n      <td>2020-09-15</td>\n      <td>CITY OF MAKATI</td>\n      <td>NCR</td>\n      <td>YES</td>\n      <td>RECOVERED</td>\n    </tr>\n    <tr>\n      <th>6017</th>\n      <td>9.0</td>\n      <td>2020-09-20</td>\n      <td>CITY OF MAKATI</td>\n      <td>NCR</td>\n      <td>YES</td>\n      <td>RECOVERED</td>\n    </tr>\n    <tr>\n      <th>6018</th>\n      <td>45.0</td>\n      <td>2020-09-19</td>\n      <td>CITY OF MAKATI</td>\n      <td>NCR</td>\n      <td>NO</td>\n      <td>RECOVERED</td>\n    </tr>\n    <tr>\n      <th>6019</th>\n      <td>47.0</td>\n      <td>2020-09-15</td>\n      <td>CITY OF MAKATI</td>\n      <td>NCR</td>\n      <td>YES</td>\n      <td>RECOVERED</td>\n    </tr>\n  </tbody>\n</table>\n<p>6020 rows × 6 columns</p>\n</div>"
     },
     "metadata": {},
     "execution_count": 11
    }
   ],
   "source": [
    "df = df.loc[(df['CityMunRes'] == 'QUEZON CITY') | (df['CityMunRes'] == 'CITY OF MAKATI')]\n",
    "df = df.reset_index(drop=True)\n",
    "df"
   ]
  },
  {
   "cell_type": "code",
   "execution_count": 12,
   "metadata": {
    "scrolled": false
   },
   "outputs": [
    {
     "output_type": "execute_result",
     "data": {
      "text/plain": [
       "       Age DateSpecimen      CityMunRes RegionRes Quarantined HealthStatus\n",
       "0     22.0   2020-10-01     QUEZON CITY       NCR          NO         MILD\n",
       "1     28.0   2020-09-24     QUEZON CITY       NCR          NO    RECOVERED\n",
       "2     27.0   2020-10-08     QUEZON CITY       NCR          NO         MILD\n",
       "3     59.0   2020-09-16     QUEZON CITY       NCR          NO    RECOVERED\n",
       "4     25.0   2020-09-30     QUEZON CITY       NCR          NO         MILD\n",
       "...    ...          ...             ...       ...         ...          ...\n",
       "6015  25.0   2020-09-18  CITY OF MAKATI       NCR          NO    RECOVERED\n",
       "6016  76.0   2020-09-15  CITY OF MAKATI       NCR         YES    RECOVERED\n",
       "6017   9.0   2020-09-20  CITY OF MAKATI       NCR         YES    RECOVERED\n",
       "6018  45.0   2020-09-19  CITY OF MAKATI       NCR          NO    RECOVERED\n",
       "6019  47.0   2020-09-15  CITY OF MAKATI       NCR         YES    RECOVERED\n",
       "\n",
       "[6020 rows x 6 columns]"
      ],
      "text/html": "<div>\n<style scoped>\n    .dataframe tbody tr th:only-of-type {\n        vertical-align: middle;\n    }\n\n    .dataframe tbody tr th {\n        vertical-align: top;\n    }\n\n    .dataframe thead th {\n        text-align: right;\n    }\n</style>\n<table border=\"1\" class=\"dataframe\">\n  <thead>\n    <tr style=\"text-align: right;\">\n      <th></th>\n      <th>Age</th>\n      <th>DateSpecimen</th>\n      <th>CityMunRes</th>\n      <th>RegionRes</th>\n      <th>Quarantined</th>\n      <th>HealthStatus</th>\n    </tr>\n  </thead>\n  <tbody>\n    <tr>\n      <th>0</th>\n      <td>22.0</td>\n      <td>2020-10-01</td>\n      <td>QUEZON CITY</td>\n      <td>NCR</td>\n      <td>NO</td>\n      <td>MILD</td>\n    </tr>\n    <tr>\n      <th>1</th>\n      <td>28.0</td>\n      <td>2020-09-24</td>\n      <td>QUEZON CITY</td>\n      <td>NCR</td>\n      <td>NO</td>\n      <td>RECOVERED</td>\n    </tr>\n    <tr>\n      <th>2</th>\n      <td>27.0</td>\n      <td>2020-10-08</td>\n      <td>QUEZON CITY</td>\n      <td>NCR</td>\n      <td>NO</td>\n      <td>MILD</td>\n    </tr>\n    <tr>\n      <th>3</th>\n      <td>59.0</td>\n      <td>2020-09-16</td>\n      <td>QUEZON CITY</td>\n      <td>NCR</td>\n      <td>NO</td>\n      <td>RECOVERED</td>\n    </tr>\n    <tr>\n      <th>4</th>\n      <td>25.0</td>\n      <td>2020-09-30</td>\n      <td>QUEZON CITY</td>\n      <td>NCR</td>\n      <td>NO</td>\n      <td>MILD</td>\n    </tr>\n    <tr>\n      <th>...</th>\n      <td>...</td>\n      <td>...</td>\n      <td>...</td>\n      <td>...</td>\n      <td>...</td>\n      <td>...</td>\n    </tr>\n    <tr>\n      <th>6015</th>\n      <td>25.0</td>\n      <td>2020-09-18</td>\n      <td>CITY OF MAKATI</td>\n      <td>NCR</td>\n      <td>NO</td>\n      <td>RECOVERED</td>\n    </tr>\n    <tr>\n      <th>6016</th>\n      <td>76.0</td>\n      <td>2020-09-15</td>\n      <td>CITY OF MAKATI</td>\n      <td>NCR</td>\n      <td>YES</td>\n      <td>RECOVERED</td>\n    </tr>\n    <tr>\n      <th>6017</th>\n      <td>9.0</td>\n      <td>2020-09-20</td>\n      <td>CITY OF MAKATI</td>\n      <td>NCR</td>\n      <td>YES</td>\n      <td>RECOVERED</td>\n    </tr>\n    <tr>\n      <th>6018</th>\n      <td>45.0</td>\n      <td>2020-09-19</td>\n      <td>CITY OF MAKATI</td>\n      <td>NCR</td>\n      <td>NO</td>\n      <td>RECOVERED</td>\n    </tr>\n    <tr>\n      <th>6019</th>\n      <td>47.0</td>\n      <td>2020-09-15</td>\n      <td>CITY OF MAKATI</td>\n      <td>NCR</td>\n      <td>YES</td>\n      <td>RECOVERED</td>\n    </tr>\n  </tbody>\n</table>\n<p>6020 rows × 6 columns</p>\n</div>"
     },
     "metadata": {},
     "execution_count": 12
    }
   ],
   "source": [
    "df = df.dropna()\n",
    "df = df.reset_index(drop=True)\n",
    "df"
   ]
  },
  {
   "cell_type": "code",
   "execution_count": 13,
   "metadata": {},
   "outputs": [
    {
     "output_type": "execute_result",
     "data": {
      "text/plain": [
       "       Age DateSpecimen      CityMunRes RegionRes Quarantined HealthStatus\n",
       "0     22.0   2020-10-01     QUEZON CITY       NCR          NO         MILD\n",
       "1     28.0   2020-09-24     QUEZON CITY       NCR          NO    RECOVERED\n",
       "2     27.0   2020-10-08     QUEZON CITY       NCR          NO         MILD\n",
       "3     59.0   2020-09-16     QUEZON CITY       NCR          NO    RECOVERED\n",
       "4     25.0   2020-09-30     QUEZON CITY       NCR          NO         MILD\n",
       "...    ...          ...             ...       ...         ...          ...\n",
       "6015  25.0   2020-09-18  CITY OF MAKATI       NCR          NO    RECOVERED\n",
       "6016  76.0   2020-09-15  CITY OF MAKATI       NCR         YES    RECOVERED\n",
       "6017   9.0   2020-09-20  CITY OF MAKATI       NCR         YES    RECOVERED\n",
       "6018  45.0   2020-09-19  CITY OF MAKATI       NCR          NO    RECOVERED\n",
       "6019  47.0   2020-09-15  CITY OF MAKATI       NCR         YES    RECOVERED\n",
       "\n",
       "[6020 rows x 6 columns]"
      ],
      "text/html": "<div>\n<style scoped>\n    .dataframe tbody tr th:only-of-type {\n        vertical-align: middle;\n    }\n\n    .dataframe tbody tr th {\n        vertical-align: top;\n    }\n\n    .dataframe thead th {\n        text-align: right;\n    }\n</style>\n<table border=\"1\" class=\"dataframe\">\n  <thead>\n    <tr style=\"text-align: right;\">\n      <th></th>\n      <th>Age</th>\n      <th>DateSpecimen</th>\n      <th>CityMunRes</th>\n      <th>RegionRes</th>\n      <th>Quarantined</th>\n      <th>HealthStatus</th>\n    </tr>\n  </thead>\n  <tbody>\n    <tr>\n      <th>0</th>\n      <td>22.0</td>\n      <td>2020-10-01</td>\n      <td>QUEZON CITY</td>\n      <td>NCR</td>\n      <td>NO</td>\n      <td>MILD</td>\n    </tr>\n    <tr>\n      <th>1</th>\n      <td>28.0</td>\n      <td>2020-09-24</td>\n      <td>QUEZON CITY</td>\n      <td>NCR</td>\n      <td>NO</td>\n      <td>RECOVERED</td>\n    </tr>\n    <tr>\n      <th>2</th>\n      <td>27.0</td>\n      <td>2020-10-08</td>\n      <td>QUEZON CITY</td>\n      <td>NCR</td>\n      <td>NO</td>\n      <td>MILD</td>\n    </tr>\n    <tr>\n      <th>3</th>\n      <td>59.0</td>\n      <td>2020-09-16</td>\n      <td>QUEZON CITY</td>\n      <td>NCR</td>\n      <td>NO</td>\n      <td>RECOVERED</td>\n    </tr>\n    <tr>\n      <th>4</th>\n      <td>25.0</td>\n      <td>2020-09-30</td>\n      <td>QUEZON CITY</td>\n      <td>NCR</td>\n      <td>NO</td>\n      <td>MILD</td>\n    </tr>\n    <tr>\n      <th>...</th>\n      <td>...</td>\n      <td>...</td>\n      <td>...</td>\n      <td>...</td>\n      <td>...</td>\n      <td>...</td>\n    </tr>\n    <tr>\n      <th>6015</th>\n      <td>25.0</td>\n      <td>2020-09-18</td>\n      <td>CITY OF MAKATI</td>\n      <td>NCR</td>\n      <td>NO</td>\n      <td>RECOVERED</td>\n    </tr>\n    <tr>\n      <th>6016</th>\n      <td>76.0</td>\n      <td>2020-09-15</td>\n      <td>CITY OF MAKATI</td>\n      <td>NCR</td>\n      <td>YES</td>\n      <td>RECOVERED</td>\n    </tr>\n    <tr>\n      <th>6017</th>\n      <td>9.0</td>\n      <td>2020-09-20</td>\n      <td>CITY OF MAKATI</td>\n      <td>NCR</td>\n      <td>YES</td>\n      <td>RECOVERED</td>\n    </tr>\n    <tr>\n      <th>6018</th>\n      <td>45.0</td>\n      <td>2020-09-19</td>\n      <td>CITY OF MAKATI</td>\n      <td>NCR</td>\n      <td>NO</td>\n      <td>RECOVERED</td>\n    </tr>\n    <tr>\n      <th>6019</th>\n      <td>47.0</td>\n      <td>2020-09-15</td>\n      <td>CITY OF MAKATI</td>\n      <td>NCR</td>\n      <td>YES</td>\n      <td>RECOVERED</td>\n    </tr>\n  </tbody>\n</table>\n<p>6020 rows × 6 columns</p>\n</div>"
     },
     "metadata": {},
     "execution_count": 13
    }
   ],
   "source": [
    "df['DateSpecimen'] = pd.to_datetime(df['DateSpecimen'], format='%Y-%m-%d')\n",
    "df"
   ]
  },
  {
   "cell_type": "code",
   "execution_count": 14,
   "metadata": {},
   "outputs": [
    {
     "output_type": "execute_result",
     "data": {
      "text/plain": [
       "       Age DateSpecimen      CityMunRes RegionRes Quarantined HealthStatus\n",
       "0     22.0   10/01/2020     QUEZON CITY       NCR          NO         MILD\n",
       "1     28.0   09/24/2020     QUEZON CITY       NCR          NO    RECOVERED\n",
       "2     27.0   10/08/2020     QUEZON CITY       NCR          NO         MILD\n",
       "3     59.0   09/16/2020     QUEZON CITY       NCR          NO    RECOVERED\n",
       "4     25.0   09/30/2020     QUEZON CITY       NCR          NO         MILD\n",
       "...    ...          ...             ...       ...         ...          ...\n",
       "6015  25.0   09/18/2020  CITY OF MAKATI       NCR          NO    RECOVERED\n",
       "6016  76.0   09/15/2020  CITY OF MAKATI       NCR         YES    RECOVERED\n",
       "6017   9.0   09/20/2020  CITY OF MAKATI       NCR         YES    RECOVERED\n",
       "6018  45.0   09/19/2020  CITY OF MAKATI       NCR          NO    RECOVERED\n",
       "6019  47.0   09/15/2020  CITY OF MAKATI       NCR         YES    RECOVERED\n",
       "\n",
       "[6020 rows x 6 columns]"
      ],
      "text/html": "<div>\n<style scoped>\n    .dataframe tbody tr th:only-of-type {\n        vertical-align: middle;\n    }\n\n    .dataframe tbody tr th {\n        vertical-align: top;\n    }\n\n    .dataframe thead th {\n        text-align: right;\n    }\n</style>\n<table border=\"1\" class=\"dataframe\">\n  <thead>\n    <tr style=\"text-align: right;\">\n      <th></th>\n      <th>Age</th>\n      <th>DateSpecimen</th>\n      <th>CityMunRes</th>\n      <th>RegionRes</th>\n      <th>Quarantined</th>\n      <th>HealthStatus</th>\n    </tr>\n  </thead>\n  <tbody>\n    <tr>\n      <th>0</th>\n      <td>22.0</td>\n      <td>10/01/2020</td>\n      <td>QUEZON CITY</td>\n      <td>NCR</td>\n      <td>NO</td>\n      <td>MILD</td>\n    </tr>\n    <tr>\n      <th>1</th>\n      <td>28.0</td>\n      <td>09/24/2020</td>\n      <td>QUEZON CITY</td>\n      <td>NCR</td>\n      <td>NO</td>\n      <td>RECOVERED</td>\n    </tr>\n    <tr>\n      <th>2</th>\n      <td>27.0</td>\n      <td>10/08/2020</td>\n      <td>QUEZON CITY</td>\n      <td>NCR</td>\n      <td>NO</td>\n      <td>MILD</td>\n    </tr>\n    <tr>\n      <th>3</th>\n      <td>59.0</td>\n      <td>09/16/2020</td>\n      <td>QUEZON CITY</td>\n      <td>NCR</td>\n      <td>NO</td>\n      <td>RECOVERED</td>\n    </tr>\n    <tr>\n      <th>4</th>\n      <td>25.0</td>\n      <td>09/30/2020</td>\n      <td>QUEZON CITY</td>\n      <td>NCR</td>\n      <td>NO</td>\n      <td>MILD</td>\n    </tr>\n    <tr>\n      <th>...</th>\n      <td>...</td>\n      <td>...</td>\n      <td>...</td>\n      <td>...</td>\n      <td>...</td>\n      <td>...</td>\n    </tr>\n    <tr>\n      <th>6015</th>\n      <td>25.0</td>\n      <td>09/18/2020</td>\n      <td>CITY OF MAKATI</td>\n      <td>NCR</td>\n      <td>NO</td>\n      <td>RECOVERED</td>\n    </tr>\n    <tr>\n      <th>6016</th>\n      <td>76.0</td>\n      <td>09/15/2020</td>\n      <td>CITY OF MAKATI</td>\n      <td>NCR</td>\n      <td>YES</td>\n      <td>RECOVERED</td>\n    </tr>\n    <tr>\n      <th>6017</th>\n      <td>9.0</td>\n      <td>09/20/2020</td>\n      <td>CITY OF MAKATI</td>\n      <td>NCR</td>\n      <td>YES</td>\n      <td>RECOVERED</td>\n    </tr>\n    <tr>\n      <th>6018</th>\n      <td>45.0</td>\n      <td>09/19/2020</td>\n      <td>CITY OF MAKATI</td>\n      <td>NCR</td>\n      <td>NO</td>\n      <td>RECOVERED</td>\n    </tr>\n    <tr>\n      <th>6019</th>\n      <td>47.0</td>\n      <td>09/15/2020</td>\n      <td>CITY OF MAKATI</td>\n      <td>NCR</td>\n      <td>YES</td>\n      <td>RECOVERED</td>\n    </tr>\n  </tbody>\n</table>\n<p>6020 rows × 6 columns</p>\n</div>"
     },
     "metadata": {},
     "execution_count": 14
    }
   ],
   "source": [
    "df['DateSpecimen'] = df['DateSpecimen'].dt.strftime('%m/%d/%Y')\n",
    "df"
   ]
  },
  {
   "cell_type": "code",
   "execution_count": 15,
   "metadata": {},
   "outputs": [],
   "source": [
    "qc = df.loc[df['CityMunRes'] == 'QUEZON CITY']\n",
    "mkt = df.loc[df['CityMunRes'] == 'CITY OF MAKATI']\n",
    "\n",
    "qc = qc.reset_index(drop=True)\n",
    "mkt = mkt.reset_index(drop=True)"
   ]
  },
  {
   "cell_type": "code",
   "execution_count": 16,
   "metadata": {
    "scrolled": false
   },
   "outputs": [
    {
     "output_type": "execute_result",
     "data": {
      "text/plain": [
       "       Age DateSpecimen   CityMunRes RegionRes Quarantined HealthStatus\n",
       "0     22.0   10/01/2020  QUEZON CITY       NCR          NO         MILD\n",
       "1     28.0   09/24/2020  QUEZON CITY       NCR          NO    RECOVERED\n",
       "2     27.0   10/08/2020  QUEZON CITY       NCR          NO         MILD\n",
       "3     59.0   09/16/2020  QUEZON CITY       NCR          NO    RECOVERED\n",
       "4     25.0   09/30/2020  QUEZON CITY       NCR          NO         MILD\n",
       "...    ...          ...          ...       ...         ...          ...\n",
       "4462  54.0   09/14/2020  QUEZON CITY       NCR          NO    RECOVERED\n",
       "4463  25.0   09/14/2020  QUEZON CITY       NCR          NO    RECOVERED\n",
       "4464  36.0   09/21/2020  QUEZON CITY       NCR          NO    RECOVERED\n",
       "4465  59.0   09/25/2020  QUEZON CITY       NCR          NO    RECOVERED\n",
       "4466  65.0   09/25/2020  QUEZON CITY       NCR          NO         DIED\n",
       "\n",
       "[4467 rows x 6 columns]"
      ],
      "text/html": "<div>\n<style scoped>\n    .dataframe tbody tr th:only-of-type {\n        vertical-align: middle;\n    }\n\n    .dataframe tbody tr th {\n        vertical-align: top;\n    }\n\n    .dataframe thead th {\n        text-align: right;\n    }\n</style>\n<table border=\"1\" class=\"dataframe\">\n  <thead>\n    <tr style=\"text-align: right;\">\n      <th></th>\n      <th>Age</th>\n      <th>DateSpecimen</th>\n      <th>CityMunRes</th>\n      <th>RegionRes</th>\n      <th>Quarantined</th>\n      <th>HealthStatus</th>\n    </tr>\n  </thead>\n  <tbody>\n    <tr>\n      <th>0</th>\n      <td>22.0</td>\n      <td>10/01/2020</td>\n      <td>QUEZON CITY</td>\n      <td>NCR</td>\n      <td>NO</td>\n      <td>MILD</td>\n    </tr>\n    <tr>\n      <th>1</th>\n      <td>28.0</td>\n      <td>09/24/2020</td>\n      <td>QUEZON CITY</td>\n      <td>NCR</td>\n      <td>NO</td>\n      <td>RECOVERED</td>\n    </tr>\n    <tr>\n      <th>2</th>\n      <td>27.0</td>\n      <td>10/08/2020</td>\n      <td>QUEZON CITY</td>\n      <td>NCR</td>\n      <td>NO</td>\n      <td>MILD</td>\n    </tr>\n    <tr>\n      <th>3</th>\n      <td>59.0</td>\n      <td>09/16/2020</td>\n      <td>QUEZON CITY</td>\n      <td>NCR</td>\n      <td>NO</td>\n      <td>RECOVERED</td>\n    </tr>\n    <tr>\n      <th>4</th>\n      <td>25.0</td>\n      <td>09/30/2020</td>\n      <td>QUEZON CITY</td>\n      <td>NCR</td>\n      <td>NO</td>\n      <td>MILD</td>\n    </tr>\n    <tr>\n      <th>...</th>\n      <td>...</td>\n      <td>...</td>\n      <td>...</td>\n      <td>...</td>\n      <td>...</td>\n      <td>...</td>\n    </tr>\n    <tr>\n      <th>4462</th>\n      <td>54.0</td>\n      <td>09/14/2020</td>\n      <td>QUEZON CITY</td>\n      <td>NCR</td>\n      <td>NO</td>\n      <td>RECOVERED</td>\n    </tr>\n    <tr>\n      <th>4463</th>\n      <td>25.0</td>\n      <td>09/14/2020</td>\n      <td>QUEZON CITY</td>\n      <td>NCR</td>\n      <td>NO</td>\n      <td>RECOVERED</td>\n    </tr>\n    <tr>\n      <th>4464</th>\n      <td>36.0</td>\n      <td>09/21/2020</td>\n      <td>QUEZON CITY</td>\n      <td>NCR</td>\n      <td>NO</td>\n      <td>RECOVERED</td>\n    </tr>\n    <tr>\n      <th>4465</th>\n      <td>59.0</td>\n      <td>09/25/2020</td>\n      <td>QUEZON CITY</td>\n      <td>NCR</td>\n      <td>NO</td>\n      <td>RECOVERED</td>\n    </tr>\n    <tr>\n      <th>4466</th>\n      <td>65.0</td>\n      <td>09/25/2020</td>\n      <td>QUEZON CITY</td>\n      <td>NCR</td>\n      <td>NO</td>\n      <td>DIED</td>\n    </tr>\n  </tbody>\n</table>\n<p>4467 rows × 6 columns</p>\n</div>"
     },
     "metadata": {},
     "execution_count": 16
    }
   ],
   "source": [
    "qc"
   ]
  },
  {
   "cell_type": "code",
   "execution_count": 17,
   "metadata": {},
   "outputs": [
    {
     "output_type": "execute_result",
     "data": {
      "text/plain": [
       "       Age DateSpecimen      CityMunRes RegionRes Quarantined  HealthStatus\n",
       "0     44.0   09/14/2020  CITY OF MAKATI       NCR          NO     RECOVERED\n",
       "1     35.0   09/23/2020  CITY OF MAKATI       NCR          NO     RECOVERED\n",
       "2     78.0   10/08/2020  CITY OF MAKATI       NCR          NO  ASYMPTOMATIC\n",
       "3     57.0   09/29/2020  CITY OF MAKATI       NCR         YES        SEVERE\n",
       "4     51.0   09/24/2020  CITY OF MAKATI       NCR         YES        SEVERE\n",
       "...    ...          ...             ...       ...         ...           ...\n",
       "1548  25.0   09/18/2020  CITY OF MAKATI       NCR          NO     RECOVERED\n",
       "1549  76.0   09/15/2020  CITY OF MAKATI       NCR         YES     RECOVERED\n",
       "1550   9.0   09/20/2020  CITY OF MAKATI       NCR         YES     RECOVERED\n",
       "1551  45.0   09/19/2020  CITY OF MAKATI       NCR          NO     RECOVERED\n",
       "1552  47.0   09/15/2020  CITY OF MAKATI       NCR         YES     RECOVERED\n",
       "\n",
       "[1553 rows x 6 columns]"
      ],
      "text/html": "<div>\n<style scoped>\n    .dataframe tbody tr th:only-of-type {\n        vertical-align: middle;\n    }\n\n    .dataframe tbody tr th {\n        vertical-align: top;\n    }\n\n    .dataframe thead th {\n        text-align: right;\n    }\n</style>\n<table border=\"1\" class=\"dataframe\">\n  <thead>\n    <tr style=\"text-align: right;\">\n      <th></th>\n      <th>Age</th>\n      <th>DateSpecimen</th>\n      <th>CityMunRes</th>\n      <th>RegionRes</th>\n      <th>Quarantined</th>\n      <th>HealthStatus</th>\n    </tr>\n  </thead>\n  <tbody>\n    <tr>\n      <th>0</th>\n      <td>44.0</td>\n      <td>09/14/2020</td>\n      <td>CITY OF MAKATI</td>\n      <td>NCR</td>\n      <td>NO</td>\n      <td>RECOVERED</td>\n    </tr>\n    <tr>\n      <th>1</th>\n      <td>35.0</td>\n      <td>09/23/2020</td>\n      <td>CITY OF MAKATI</td>\n      <td>NCR</td>\n      <td>NO</td>\n      <td>RECOVERED</td>\n    </tr>\n    <tr>\n      <th>2</th>\n      <td>78.0</td>\n      <td>10/08/2020</td>\n      <td>CITY OF MAKATI</td>\n      <td>NCR</td>\n      <td>NO</td>\n      <td>ASYMPTOMATIC</td>\n    </tr>\n    <tr>\n      <th>3</th>\n      <td>57.0</td>\n      <td>09/29/2020</td>\n      <td>CITY OF MAKATI</td>\n      <td>NCR</td>\n      <td>YES</td>\n      <td>SEVERE</td>\n    </tr>\n    <tr>\n      <th>4</th>\n      <td>51.0</td>\n      <td>09/24/2020</td>\n      <td>CITY OF MAKATI</td>\n      <td>NCR</td>\n      <td>YES</td>\n      <td>SEVERE</td>\n    </tr>\n    <tr>\n      <th>...</th>\n      <td>...</td>\n      <td>...</td>\n      <td>...</td>\n      <td>...</td>\n      <td>...</td>\n      <td>...</td>\n    </tr>\n    <tr>\n      <th>1548</th>\n      <td>25.0</td>\n      <td>09/18/2020</td>\n      <td>CITY OF MAKATI</td>\n      <td>NCR</td>\n      <td>NO</td>\n      <td>RECOVERED</td>\n    </tr>\n    <tr>\n      <th>1549</th>\n      <td>76.0</td>\n      <td>09/15/2020</td>\n      <td>CITY OF MAKATI</td>\n      <td>NCR</td>\n      <td>YES</td>\n      <td>RECOVERED</td>\n    </tr>\n    <tr>\n      <th>1550</th>\n      <td>9.0</td>\n      <td>09/20/2020</td>\n      <td>CITY OF MAKATI</td>\n      <td>NCR</td>\n      <td>YES</td>\n      <td>RECOVERED</td>\n    </tr>\n    <tr>\n      <th>1551</th>\n      <td>45.0</td>\n      <td>09/19/2020</td>\n      <td>CITY OF MAKATI</td>\n      <td>NCR</td>\n      <td>NO</td>\n      <td>RECOVERED</td>\n    </tr>\n    <tr>\n      <th>1552</th>\n      <td>47.0</td>\n      <td>09/15/2020</td>\n      <td>CITY OF MAKATI</td>\n      <td>NCR</td>\n      <td>YES</td>\n      <td>RECOVERED</td>\n    </tr>\n  </tbody>\n</table>\n<p>1553 rows × 6 columns</p>\n</div>"
     },
     "metadata": {},
     "execution_count": 17
    }
   ],
   "source": [
    "mkt"
   ]
  },
  {
   "cell_type": "code",
   "execution_count": 18,
   "metadata": {},
   "outputs": [],
   "source": [
    "#1st City = QC\n",
    "qcHealth = qc['HealthStatus'].unique().tolist()\n",
    "qcDate = qc['DateSpecimen'].unique().tolist()\n",
    "qcQuar = qc['Quarantined'].unique().tolist()\n",
    "\n",
    "#2nd City = MKT\n",
    "mktHealth = mkt['HealthStatus'].unique().tolist()\n",
    "mktDate = mkt['DateSpecimen'].unique().tolist()\n",
    "mktQuar = mkt['Quarantined'].unique().tolist()\n",
    "\n",
    "#Overall\n",
    "uniHealth = df['HealthStatus'].unique().tolist()\n",
    "uniDate = df['DateSpecimen'].unique().tolist()\n",
    "uniQuar = df['Quarantined'].unique().tolist()"
   ]
  },
  {
   "cell_type": "code",
   "execution_count": 19,
   "metadata": {},
   "outputs": [],
   "source": [
    "#1st City = QC\n",
    "for i in range(len(qc)):\n",
    "    for l in qcHealth:\n",
    "        if qc['HealthStatus'][i] == l:\n",
    "            qc['HealthStatus'][i] = qcHealth.index(l)\n",
    "            \n",
    "    for m in qcDate:\n",
    "        if qc['DateSpecimen'][i] == m:\n",
    "            qc['DateSpecimen'][i] = qcDate.index(m)\n",
    "    \n",
    "    for n in qcQuar:\n",
    "        if qc['Quarantined'][i] == n:\n",
    "            qc['Quarantined'][i] = qcQuar.index(n)\n",
    "   \n",
    "#2nd City = Mkt\n",
    "for i in range(len(mkt)):\n",
    "    for l in mktHealth:\n",
    "        if mkt['HealthStatus'][i] == l:\n",
    "            mkt['HealthStatus'][i] = mktHealth.index(l)\n",
    "            \n",
    "    for m in uniDate:\n",
    "        if mkt['DateSpecimen'][i] == m:\n",
    "            mkt['DateSpecimen'][i] = mktDate.index(m)\n",
    "    \n",
    "    for n in mktQuar:\n",
    "        if mkt['Quarantined'][i] == n:\n",
    "            mkt['Quarantined'][i] = mktQuar.index(n)\n",
    "            \n",
    "#Overall\n",
    "for i in range(len(df)):\n",
    "    for l in uniHealth:\n",
    "        if df['HealthStatus'][i] == l:\n",
    "            df['HealthStatus'][i] = uniHealth.index(l)\n",
    "            \n",
    "    for m in uniDate:\n",
    "        if df['DateSpecimen'][i] == m:\n",
    "            df['DateSpecimen'][i] = uniDate.index(m)\n",
    "\n",
    "    for n in uniQuar:\n",
    "        if df['Quarantined'][i] == n:\n",
    "            df['Quarantined'][i] = uniQuar.index(n)"
   ]
  },
  {
   "cell_type": "code",
   "execution_count": 23,
   "metadata": {},
   "outputs": [],
   "source": [
    "qc[['HealthStatus', 'DateSpecimen', 'Quarantined']] = qc[['HealthStatus', 'DateSpecimen', 'Quarantined']].apply(pd.to_numeric)\n",
    "mkt[['HealthStatus', 'DateSpecimen', 'Quarantined']] = mkt[['HealthStatus', 'DateSpecimen', 'Quarantined']].apply(pd.to_numeric)"
   ]
  },
  {
   "cell_type": "code",
   "execution_count": 27,
   "metadata": {},
   "outputs": [
    {
     "output_type": "execute_result",
     "data": {
      "text/plain": [
       "                   Age  DateSpecimen  Quarantined  HealthStatus\n",
       "Age           1.000000     -0.040689     0.137805     -0.017609\n",
       "DateSpecimen -0.040689      1.000000    -0.036559      0.487211\n",
       "Quarantined   0.137805     -0.036559     1.000000     -0.112097\n",
       "HealthStatus -0.017609      0.487211    -0.112097      1.000000"
      ],
      "text/html": "<div>\n<style scoped>\n    .dataframe tbody tr th:only-of-type {\n        vertical-align: middle;\n    }\n\n    .dataframe tbody tr th {\n        vertical-align: top;\n    }\n\n    .dataframe thead th {\n        text-align: right;\n    }\n</style>\n<table border=\"1\" class=\"dataframe\">\n  <thead>\n    <tr style=\"text-align: right;\">\n      <th></th>\n      <th>Age</th>\n      <th>DateSpecimen</th>\n      <th>Quarantined</th>\n      <th>HealthStatus</th>\n    </tr>\n  </thead>\n  <tbody>\n    <tr>\n      <th>Age</th>\n      <td>1.000000</td>\n      <td>-0.040689</td>\n      <td>0.137805</td>\n      <td>-0.017609</td>\n    </tr>\n    <tr>\n      <th>DateSpecimen</th>\n      <td>-0.040689</td>\n      <td>1.000000</td>\n      <td>-0.036559</td>\n      <td>0.487211</td>\n    </tr>\n    <tr>\n      <th>Quarantined</th>\n      <td>0.137805</td>\n      <td>-0.036559</td>\n      <td>1.000000</td>\n      <td>-0.112097</td>\n    </tr>\n    <tr>\n      <th>HealthStatus</th>\n      <td>-0.017609</td>\n      <td>0.487211</td>\n      <td>-0.112097</td>\n      <td>1.000000</td>\n    </tr>\n  </tbody>\n</table>\n</div>"
     },
     "metadata": {},
     "execution_count": 27
    }
   ],
   "source": [
    "mkt.corr()"
   ]
  },
  {
   "cell_type": "code",
   "execution_count": null,
   "metadata": {},
   "outputs": [],
   "source": [
    "mkt.corr(method='pearson')"
   ]
  },
  {
   "cell_type": "code",
   "execution_count": null,
   "metadata": {},
   "outputs": [],
   "source": [
    "y2.corr(z2, method='pearson')"
   ]
  },
  {
   "cell_type": "code",
   "execution_count": null,
   "metadata": {},
   "outputs": [],
   "source": [
    "yy.corr(zz, method='pearson')"
   ]
  },
  {
   "cell_type": "code",
   "execution_count": null,
   "metadata": {},
   "outputs": [],
   "source": [
    "#x_train, x_test, y_train, y_test = train_test_split(y, z, test_size = 0.2)\n",
    "#x_train2, x_test2, y_train2, y_test2 = train_test_split(y2, z2, test_size = 0.2)"
   ]
  },
  {
   "cell_type": "code",
   "execution_count": null,
   "metadata": {},
   "outputs": [],
   "source": [
    "#logreg = LogisticRegression()\n",
    "#logreg2 = LogisticRegression()\n",
    "clf = DecisionTreeClassifier()"
   ]
  },
  {
   "cell_type": "code",
   "execution_count": null,
   "metadata": {},
   "outputs": [],
   "source": [
    "#logreg.fit(x_train, y_train)\n",
    "#logreg2.fit(x_train2, y_train2)\n",
    "clf = clf.fit(y,z)"
   ]
  },
  {
   "cell_type": "code",
   "execution_count": null,
   "metadata": {},
   "outputs": [],
   "source": [
    "y_pred = logreg.predict(x_test)\n",
    "y_pred2 = logreg2.predict(x_test2)"
   ]
  },
  {
   "cell_type": "code",
   "execution_count": null,
   "metadata": {},
   "outputs": [],
   "source": [
    "matrix = metrics.confusion_matrix(y_test, y_pred)\n",
    "matrix"
   ]
  },
  {
   "cell_type": "code",
   "execution_count": null,
   "metadata": {},
   "outputs": [],
   "source": [
    "matrix2 = metrics.confusion_matrix(y_test2, y_pred2)\n",
    "matrix2"
   ]
  },
  {
   "cell_type": "code",
   "execution_count": null,
   "metadata": {},
   "outputs": [],
   "source": [
    "print(classification_report(y_test,y_pred))"
   ]
  },
  {
   "cell_type": "code",
   "execution_count": null,
   "metadata": {},
   "outputs": [],
   "source": [
    "print(classification_report(y_test2,y_pred2))"
   ]
  },
  {
   "cell_type": "code",
   "execution_count": null,
   "metadata": {},
   "outputs": [],
   "source": [
    "import seaborn as sns"
   ]
  },
  {
   "cell_type": "code",
   "execution_count": null,
   "metadata": {},
   "outputs": [],
   "source": [
    "#Taytay\n",
    "uniHealth"
   ]
  },
  {
   "cell_type": "code",
   "execution_count": null,
   "metadata": {},
   "outputs": [],
   "source": [
    "#Antipolo\n",
    "uniHealth2"
   ]
  },
  {
   "cell_type": "code",
   "execution_count": null,
   "metadata": {},
   "outputs": [],
   "source": [
    "plt.figure(figsize=(10,10))\n",
    "ax = sns.heatmap(pd.DataFrame(matrix), annot=True, cmap=\"coolwarm\",fmt='g')\n",
    "ax.xaxis.set_label_position(\"top\")\n",
    "ax.set_xticklabels([uniHealth[0],uniHealth[1],uniHealth[2],uniHealth[3]])\n",
    "ax.set_yticklabels([uniHealth[0],uniHealth[1],uniHealth[2],uniHealth[3]])\n",
    "plt.title('Matrix')\n",
    "plt.show()"
   ]
  },
  {
   "cell_type": "code",
   "execution_count": null,
   "metadata": {},
   "outputs": [],
   "source": [
    "plt.figure(figsize=(10,10))\n",
    "ax = sns.heatmap(pd.DataFrame(matrix2), annot=True, cmap=\"coolwarm\",fmt='g')\n",
    "ax.xaxis.set_label_position(\"top\")\n",
    "ax.set_xticklabels([uniHealth2[0],uniHealth2[1],uniHealth2[2],uniHealth2[3],uniHealth2[4],uniHealth2[5]])\n",
    "ax.set_yticklabels([uniHealth2[0],uniHealth2[1],uniHealth2[2],uniHealth2[3],uniHealth2[4],uniHealth2[5]])\n",
    "plt.title('Matrix')\n",
    "plt.show()"
   ]
  },
  {
   "cell_type": "code",
   "execution_count": null,
   "metadata": {},
   "outputs": [],
   "source": [
    "skplt.metrics.plot_cumulative_gain(y_test, y_pred)\n",
    "\n",
    "plt.show()"
   ]
  },
  {
   "cell_type": "code",
   "execution_count": null,
   "metadata": {},
   "outputs": [],
   "source": [
    "skplt.metrics.plot_cumulative_gain(y_test2, y_pred2)\n",
    "\n",
    "plt.show()"
   ]
  },
  {
   "cell_type": "code",
   "execution_count": null,
   "metadata": {},
   "outputs": [],
   "source": []
  },
  {
   "cell_type": "code",
   "execution_count": null,
   "metadata": {},
   "outputs": [],
   "source": []
  }
 ],
 "metadata": {
  "kernelspec": {
   "display_name": "Python 3",
   "language": "python",
   "name": "python3"
  },
  "language_info": {
   "codemirror_mode": {
    "name": "ipython",
    "version": 3
   },
   "file_extension": ".py",
   "mimetype": "text/x-python",
   "name": "python",
   "nbconvert_exporter": "python",
   "pygments_lexer": "ipython3",
   "version": "3.8.3-final"
  }
 },
 "nbformat": 4,
 "nbformat_minor": 4
}