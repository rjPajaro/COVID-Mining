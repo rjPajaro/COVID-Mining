{
 "cells": [
  {
   "cell_type": "code",
   "execution_count": 1,
   "metadata": {
    "scrolled": true
   },
   "outputs": [],
   "source": [
    "import pandas as pd\n",
    "import numpy as np\n",
    "from sklearn import metrics\n",
    "from sklearn.metrics import classification_report\n",
    "from sklearn.model_selection import train_test_split\n",
    "from sklearn.linear_model import LogisticRegression\n",
    "from sklearn.linear_model import LinearRegression\n",
    "from sklearn.tree import DecisionTreeClassifier\n",
    "from sklearn import preprocessing\n",
    "import matplotlib.pyplot as plt"
   ]
  },
  {
   "cell_type": "code",
   "execution_count": null,
   "metadata": {
    "scrolled": true
   },
   "outputs": [],
   "source": [
    "data = pd.read_csv(r'DOH COVID Data Drop_ 20201023 - 04 Case Information.csv')\n",
    "data"
   ]
  },
  {
   "cell_type": "code",
   "execution_count": null,
   "metadata": {
    "scrolled": true
   },
   "outputs": [],
   "source": [
    "data.info()"
   ]
  },
  {
   "cell_type": "code",
   "execution_count": null,
   "metadata": {},
   "outputs": [],
   "source": [
    "df = data.drop('CaseCode', axis=1)\n",
    "df = df.drop(df.loc[:,'AgeGroup':'Sex'].columns, axis=1)\n",
    "df = df.drop(df.loc[:, 'DateResultRelease':'Admitted'].columns, axis=1)\n",
    "df = df.drop('ProvRes', axis=1)\n",
    "df = df.drop(df.loc[:, 'CityMuniPSGC':'BarangayPSGC'].columns, axis=1)\n",
    "df = df.drop(df.loc[:, 'DateOnset':'ValidationStatus'].columns, axis=1)\n",
    "df"
   ]
  },
  {
   "cell_type": "code",
   "execution_count": null,
   "metadata": {},
   "outputs": [],
   "source": [
    "titles = list(df.columns)\n",
    "titles"
   ]
  },
  {
   "cell_type": "code",
   "execution_count": null,
   "metadata": {},
   "outputs": [],
   "source": [
    "titles[4], titles[5] = titles[5], titles[4]\n",
    "titles[2], titles[3] = titles[3], titles[2]\n",
    "titles"
   ]
  },
  {
   "cell_type": "code",
   "execution_count": null,
   "metadata": {},
   "outputs": [],
   "source": [
    "df = df[titles]\n",
    "df"
   ]
  },
  {
   "cell_type": "code",
   "execution_count": null,
   "metadata": {},
   "outputs": [],
   "source": [
    "start_date = '2020-09-10'\n",
    "end_date = '2020-10-10'\n",
    "\n",
    "df = df.loc[df['RegionRes'] == 'NCR']\n",
    "df = df.loc[(df['DateSpecimen'] >= start_date) & ((df['DateSpecimen'] <= end_date))]\n",
    "df"
   ]
  },
  {
   "cell_type": "code",
   "execution_count": null,
   "metadata": {},
   "outputs": [],
   "source": [
    "#Cities in NCR\n",
    "cities = df['CityMunRes'].unique().tolist()\n",
    "\n",
    "cities"
   ]
  },
  {
   "cell_type": "code",
   "execution_count": null,
   "metadata": {},
   "outputs": [],
   "source": [
    "#df = df.loc[(df['CityMunRes'] == 'QUEZON CITY') | (df['CityMunRes'] == 'CITY OF MAKATI')]\n",
    "df = df.reset_index(drop=True)\n",
    "df"
   ]
  },
  {
   "cell_type": "code",
   "execution_count": null,
   "metadata": {
    "scrolled": false
   },
   "outputs": [],
   "source": [
    "df = df.dropna()\n",
    "df = df.reset_index(drop=True)\n",
    "df"
   ]
  },
  {
   "cell_type": "code",
   "execution_count": null,
   "metadata": {},
   "outputs": [],
   "source": [
    "df['DateSpecimen'] = pd.to_datetime(df['DateSpecimen'], format='%Y-%m-%d')\n",
    "df"
   ]
  },
  {
   "cell_type": "code",
   "execution_count": null,
   "metadata": {},
   "outputs": [],
   "source": [
    "df['DateSpecimen'] = df['DateSpecimen'].dt.strftime('%m/%d/%Y')\n",
    "df"
   ]
  },
  {
   "cell_type": "code",
   "execution_count": null,
   "metadata": {},
   "outputs": [],
   "source": [
    "qc = df.loc[df['CityMunRes'] == 'QUEZON CITY']\n",
    "mkt = df.loc[df['CityMunRes'] == 'CITY OF MAKATI']\n",
    "\n",
    "qc = qc.reset_index(drop=True)\n",
    "mkt = mkt.reset_index(drop=True)"
   ]
  },
  {
   "cell_type": "code",
   "execution_count": null,
   "metadata": {
    "scrolled": false
   },
   "outputs": [],
   "source": [
    "qc"
   ]
  },
  {
   "cell_type": "code",
   "execution_count": null,
   "metadata": {},
   "outputs": [],
   "source": [
    "mkt"
   ]
  },
  {
   "cell_type": "code",
   "execution_count": null,
   "metadata": {},
   "outputs": [],
   "source": [
    "#1st City = QC\n",
    "qcHealth = qc['HealthStatus'].unique().tolist()\n",
    "qcDate = qc['DateSpecimen'].unique().tolist()\n",
    "qcQuar = qc['Quarantined'].unique().tolist()\n",
    "\n",
    "#2nd City = MKT\n",
    "mktHealth = mkt['HealthStatus'].unique().tolist()\n",
    "mktDate = mkt['DateSpecimen'].unique().tolist()\n",
    "mktQuar = mkt['Quarantined'].unique().tolist()\n",
    "mktCity = mkt['CityMunRes'].unique().tolist()\n",
    "mktReg = mkt['RegionRes'].unique().tolist()\n",
    "\n",
    "#Overall\n",
    "uniHealth = df['HealthStatus'].unique().tolist()\n",
    "uniDate = df['DateSpecimen'].unique().tolist()\n",
    "uniQuar = df['Quarantined'].unique().tolist()\n",
    "uniCity = df['CityMunRes'].unique().tolist()"
   ]
  },
  {
   "cell_type": "code",
   "execution_count": null,
   "metadata": {},
   "outputs": [],
   "source": [
    "#1st City = QC\n",
    "for i in range(len(qc)):\n",
    "    for l in qcHealth:\n",
    "        if qc['HealthStatus'][i] == l:\n",
    "            qc['HealthStatus'][i] = qcHealth.index(l)\n",
    "            \n",
    "    for m in qcDate:\n",
    "        if qc['DateSpecimen'][i] == m:\n",
    "            qc['DateSpecimen'][i] = qcDate.index(m)\n",
    "    \n",
    "    for n in qcQuar:\n",
    "        if qc['Quarantined'][i] == n:\n",
    "            qc['Quarantined'][i] = qcQuar.index(n)\n",
    "   \n",
    "#2nd City = Mkt\n",
    "for i in range(len(mkt)):\n",
    "    for l in mktHealth:\n",
    "        if mkt['HealthStatus'][i] == l:\n",
    "            mkt['HealthStatus'][i] = mktHealth.index(l)\n",
    "            \n",
    "    for m in uniDate:\n",
    "        if mkt['DateSpecimen'][i] == m:\n",
    "            mkt['DateSpecimen'][i] = mktDate.index(m)\n",
    "    \n",
    "    for n in mktQuar:\n",
    "        if mkt['Quarantined'][i] == n:\n",
    "            mkt['Quarantined'][i] = mktQuar.index(n)\n",
    "\n",
    "    for o in mktCity:\n",
    "        if mkt['CityMunRes'][i] == o:\n",
    "            mkt['CityMunRes'][i] = mktCity.index(o)\n",
    "    \n",
    "    for p in mktReg:\n",
    "        if mkt['RegionRes'][i] == p:\n",
    "            mkt['RegionRes'][i] = mktReg.index(p)"
   ]
  },
  {
   "cell_type": "code",
   "execution_count": null,
   "metadata": {},
   "outputs": [],
   "source": [
    "#Overall\n",
    "for i in range(len(df)):\n",
    "    for l in uniHealth:\n",
    "        if df['HealthStatus'][i] == l:\n",
    "            df['HealthStatus'][i] = uniHealth.index(l)\n",
    "            \n",
    "    for m in uniDate:\n",
    "        if df['DateSpecimen'][i] == m:\n",
    "            df['DateSpecimen'][i] = uniDate.index(m)\n",
    "\n",
    "    for n in uniQuar:\n",
    "        if df['Quarantined'][i] == n:\n",
    "            df['Quarantined'][i] = uniQuar.index(n)\n",
    "    \n",
    "    for o in uniCity:\n",
    "        if df['CityMunRes'][i] == o:\n",
    "            df['CityMunRes'][i] = uniCity.index(o)"
   ]
  },
  {
   "cell_type": "code",
   "execution_count": null,
   "metadata": {},
   "outputs": [],
   "source": [
    "mkt"
   ]
  },
  {
   "cell_type": "code",
   "execution_count": null,
   "metadata": {},
   "outputs": [],
   "source": [
    "qc[['HealthStatus', 'DateSpecimen', 'Quarantined']] = qc[['HealthStatus', 'DateSpecimen', 'Quarantined']].apply(pd.to_numeric)\n",
    "mkt[['HealthStatus', 'DateSpecimen', 'Quarantined', 'CityMunRes', 'RegionRes']] = mkt[['HealthStatus', 'DateSpecimen', 'Quarantined', 'CityMunRes', 'RegionRes']].apply(pd.to_numeric)\n",
    "\n",
    "#combined\n",
    "df[['HealthStatus', 'DateSpecimen', 'Quarantined', 'CityMunRes']] = df[['HealthStatus', 'DateSpecimen', 'Quarantined', 'CityMunRes']].apply(pd.to_numeric)"
   ]
  },
  {
   "cell_type": "code",
   "execution_count": null,
   "metadata": {},
   "outputs": [],
   "source": [
    "mkt.corr(method='pearson')"
   ]
  },
  {
   "cell_type": "code",
   "execution_count": null,
   "metadata": {},
   "outputs": [],
   "source": [
    "cols = mkt.loc[:, 'Age':'Quarantined'].columns.to_list()\n",
    "x = mkt[cols]\n",
    "y = mkt['HealthStatus']"
   ]
  },
  {
   "cell_type": "code",
   "execution_count": null,
   "metadata": {},
   "outputs": [],
   "source": [
    "x_train, x_test, y_train, y_test = train_test_split(x, y, test_size = 0.2)"
   ]
  },
  {
   "cell_type": "code",
   "execution_count": null,
   "metadata": {},
   "outputs": [],
   "source": [
    "#logreg = LogisticRegression()\n",
    "#logreg2 = LogisticRegression()\n",
    "clf = DecisionTreeClassifier()"
   ]
  },
  {
   "cell_type": "code",
   "execution_count": null,
   "metadata": {},
   "outputs": [],
   "source": [
    "#logreg.fit(x_train, y_train)\n",
    "#logreg2.fit(x_train2, y_train2)\n",
    "clf = clf.fit(x_train,y_train)"
   ]
  },
  {
   "cell_type": "code",
   "execution_count": null,
   "metadata": {},
   "outputs": [],
   "source": [
    "y_pred = clf.predict(x_test)"
   ]
  },
  {
   "cell_type": "code",
   "execution_count": null,
   "metadata": {},
   "outputs": [],
   "source": [
    "matrix = metrics.confusion_matrix(y_test, y_pred)\n",
    "matrix"
   ]
  },
  {
   "cell_type": "code",
   "execution_count": null,
   "metadata": {},
   "outputs": [],
   "source": [
    "print(classification_report(y_test,y_pred))"
   ]
  },
  {
   "cell_type": "code",
   "execution_count": null,
   "metadata": {},
   "outputs": [],
   "source": [
    "import seaborn as sns"
   ]
  },
  {
   "cell_type": "code",
   "execution_count": null,
   "metadata": {},
   "outputs": [],
   "source": [
    "plt.figure(figsize=(10,10))\n",
    "ax = sns.heatmap(pd.DataFrame(matrix), annot=True, cmap=\"coolwarm\",fmt='g')\n",
    "ax.xaxis.set_label_position(\"top\")\n",
    "ax.set_xticklabels([mktHealth[0],mktHealth[1],mktHealth[2],mktHealth[3],mktHealth[4],mktHealth[5]])\n",
    "ax.set_yticklabels([mktHealth[0],mktHealth[1],mktHealth[2],mktHealth[3],mktHealth[4],mktHealth[5]])\n",
    "plt.title('Matrix')\n",
    "plt.show()"
   ]
  },
  {
   "cell_type": "code",
   "execution_count": null,
   "metadata": {},
   "outputs": [],
   "source": []
  }
 ],
 "metadata": {
  "kernelspec": {
   "display_name": "Python 3",
   "language": "python",
   "name": "python3"
  },
  "language_info": {
   "codemirror_mode": {
    "name": "ipython",
    "version": 3
   },
   "file_extension": ".py",
   "mimetype": "text/x-python",
   "name": "python",
   "nbconvert_exporter": "python",
   "pygments_lexer": "ipython3",
   "version": "3.8.3-final"
  }
 },
 "nbformat": 4,
 "nbformat_minor": 4
}