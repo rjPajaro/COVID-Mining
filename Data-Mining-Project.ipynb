{
 "cells": [
  {
   "cell_type": "code",
   "execution_count": 1,
   "metadata": {
    "scrolled": true
   },
   "outputs": [],
   "source": [
    "import pandas as pd\n",
    "import numpy as np\n",
    "from sklearn import metrics\n",
    "from sklearn.metrics import classification_report\n",
    "from sklearn.model_selection import train_test_split\n",
    "from sklearn.linear_model import LogisticRegression\n",
    "from sklearn.linear_model import LinearRegression\n",
    "from sklearn.naive_bayes import MultinomialNB\n",
    "from sklearn.tree import DecisionTreeClassifier\n",
    "from sklearn import preprocessing\n",
    "import matplotlib.pyplot as plt"
   ]
  },
  {
   "cell_type": "code",
   "execution_count": 2,
   "metadata": {
    "scrolled": true
   },
   "outputs": [
    {
     "output_type": "execute_result",
     "data": {
      "text/plain": [
       "       CaseCode   Age  AgeGroup     Sex DateSpecimen DateResultRelease  \\\n",
       "0       C642447  25.0  25 to 29    MALE   2020-07-14        2020-07-15   \n",
       "1       C919481  54.0  50 to 54    MALE   2020-07-27        2020-07-30   \n",
       "2       C378726  50.0  50 to 54  FEMALE   2020-07-18        2020-07-19   \n",
       "3       C556553  30.0  30 to 34  FEMALE   2020-05-27        2020-05-27   \n",
       "4       C210854  33.0  30 to 34    MALE   2020-07-21        2020-07-24   \n",
       "...         ...   ...       ...     ...          ...               ...   \n",
       "380724  C881229  29.0  25 to 29    MALE   2020-09-09        2020-09-13   \n",
       "380725  C591169  22.0  20 to 24    MALE   2020-09-09        2020-09-13   \n",
       "380726  C325398  27.0  25 to 29  FEMALE   2020-09-09        2020-09-13   \n",
       "380727  C768847  46.0  45 to 49  FEMALE   2020-08-24        2020-08-28   \n",
       "380728  C138460   1.0    0 to 4    MALE   2020-08-24        2020-08-28   \n",
       "\n",
       "       DateRepConf DateDied DateRecover RemovalType  ...  \\\n",
       "0       2020-07-19      NaN         NaN   RECOVERED  ...   \n",
       "1       2020-08-03      NaN         NaN   RECOVERED  ...   \n",
       "2       2020-07-24      NaN         NaN   RECOVERED  ...   \n",
       "3       2020-05-31      NaN         NaN   RECOVERED  ...   \n",
       "4       2020-07-28      NaN         NaN   RECOVERED  ...   \n",
       "...            ...      ...         ...         ...  ...   \n",
       "380724  2020-09-16      NaN  2020-09-24   RECOVERED  ...   \n",
       "380725  2020-09-16      NaN  2020-09-24   RECOVERED  ...   \n",
       "380726  2020-09-16      NaN  2020-09-24   RECOVERED  ...   \n",
       "380727  2020-08-30      NaN  2020-09-07   RECOVERED  ...   \n",
       "380728  2020-08-30      NaN  2020-09-07   RECOVERED  ...   \n",
       "\n",
       "                               ProvRes            CityMunRes CityMuniPSGC  \\\n",
       "0       COTABATO CITY (NOT A PROVINCE)                   NaN          NaN   \n",
       "1                                  NaN                   NaN          NaN   \n",
       "2                                  NaN                   NaN          NaN   \n",
       "3                                  NaN                   NaN          NaN   \n",
       "4                                  NaN                   NaN          NaN   \n",
       "...                                ...                   ...          ...   \n",
       "380724                         ROMBLON             CALATRAVA  PH175904000   \n",
       "380725                         ROMBLON             CALATRAVA  PH175904000   \n",
       "380726                         ROMBLON             CALATRAVA  PH175904000   \n",
       "380727                         ROMBLON  SANTA MARIA (IMELDA)  PH175917000   \n",
       "380728                         ROMBLON  SANTA MARIA (IMELDA)  PH175917000   \n",
       "\n",
       "       BarangayRes BarangayPSGC HealthStatus Quarantined   DateOnset  \\\n",
       "0              NaN          NaN    RECOVERED          NO         NaN   \n",
       "1              NaN          NaN    RECOVERED          NO         NaN   \n",
       "2              NaN          NaN    RECOVERED          NO         NaN   \n",
       "3              NaN          NaN    RECOVERED          NO         NaN   \n",
       "4              NaN          NaN    RECOVERED          NO         NaN   \n",
       "...            ...          ...          ...         ...         ...   \n",
       "380724      BALOGO  PH175904001    RECOVERED         YES         NaN   \n",
       "380725      BALOGO  PH175904001    RECOVERED         YES         NaN   \n",
       "380726      BALOGO  PH175904001    RECOVERED         YES         NaN   \n",
       "380727         NaN          NaN    RECOVERED         YES  2020-08-20   \n",
       "380728         NaN          NaN    RECOVERED         YES  2020-08-20   \n",
       "\n",
       "       Pregnanttab                                   ValidationStatus  \n",
       "0              NaN  Removal Type is \"Recovered\", but no Recovered ...  \n",
       "1              NaN  Health Status is \"Recovered\", but no Date Reco...  \n",
       "2               NO  Health Status is \"Recovered\", but no Date Reco...  \n",
       "3               NO  Removal Type is \"Recovered\", but no Recovered ...  \n",
       "4              NaN  Health Status is \"Recovered\", but no Date Reco...  \n",
       "...            ...                                                ...  \n",
       "380724         NaN                                                NaN  \n",
       "380725         NaN                                                NaN  \n",
       "380726          NO                        Age or Birthdate is Invalid  \n",
       "380727          NO                                                NaN  \n",
       "380728         NaN  Age or Birthdate is Invalid\\nUnexpected change...  \n",
       "\n",
       "[380729 rows x 22 columns]"
      ],
      "text/html": "<div>\n<style scoped>\n    .dataframe tbody tr th:only-of-type {\n        vertical-align: middle;\n    }\n\n    .dataframe tbody tr th {\n        vertical-align: top;\n    }\n\n    .dataframe thead th {\n        text-align: right;\n    }\n</style>\n<table border=\"1\" class=\"dataframe\">\n  <thead>\n    <tr style=\"text-align: right;\">\n      <th></th>\n      <th>CaseCode</th>\n      <th>Age</th>\n      <th>AgeGroup</th>\n      <th>Sex</th>\n      <th>DateSpecimen</th>\n      <th>DateResultRelease</th>\n      <th>DateRepConf</th>\n      <th>DateDied</th>\n      <th>DateRecover</th>\n      <th>RemovalType</th>\n      <th>...</th>\n      <th>ProvRes</th>\n      <th>CityMunRes</th>\n      <th>CityMuniPSGC</th>\n      <th>BarangayRes</th>\n      <th>BarangayPSGC</th>\n      <th>HealthStatus</th>\n      <th>Quarantined</th>\n      <th>DateOnset</th>\n      <th>Pregnanttab</th>\n      <th>ValidationStatus</th>\n    </tr>\n  </thead>\n  <tbody>\n    <tr>\n      <th>0</th>\n      <td>C642447</td>\n      <td>25.0</td>\n      <td>25 to 29</td>\n      <td>MALE</td>\n      <td>2020-07-14</td>\n      <td>2020-07-15</td>\n      <td>2020-07-19</td>\n      <td>NaN</td>\n      <td>NaN</td>\n      <td>RECOVERED</td>\n      <td>...</td>\n      <td>COTABATO CITY (NOT A PROVINCE)</td>\n      <td>NaN</td>\n      <td>NaN</td>\n      <td>NaN</td>\n      <td>NaN</td>\n      <td>RECOVERED</td>\n      <td>NO</td>\n      <td>NaN</td>\n      <td>NaN</td>\n      <td>Removal Type is \"Recovered\", but no Recovered ...</td>\n    </tr>\n    <tr>\n      <th>1</th>\n      <td>C919481</td>\n      <td>54.0</td>\n      <td>50 to 54</td>\n      <td>MALE</td>\n      <td>2020-07-27</td>\n      <td>2020-07-30</td>\n      <td>2020-08-03</td>\n      <td>NaN</td>\n      <td>NaN</td>\n      <td>RECOVERED</td>\n      <td>...</td>\n      <td>NaN</td>\n      <td>NaN</td>\n      <td>NaN</td>\n      <td>NaN</td>\n      <td>NaN</td>\n      <td>RECOVERED</td>\n      <td>NO</td>\n      <td>NaN</td>\n      <td>NaN</td>\n      <td>Health Status is \"Recovered\", but no Date Reco...</td>\n    </tr>\n    <tr>\n      <th>2</th>\n      <td>C378726</td>\n      <td>50.0</td>\n      <td>50 to 54</td>\n      <td>FEMALE</td>\n      <td>2020-07-18</td>\n      <td>2020-07-19</td>\n      <td>2020-07-24</td>\n      <td>NaN</td>\n      <td>NaN</td>\n      <td>RECOVERED</td>\n      <td>...</td>\n      <td>NaN</td>\n      <td>NaN</td>\n      <td>NaN</td>\n      <td>NaN</td>\n      <td>NaN</td>\n      <td>RECOVERED</td>\n      <td>NO</td>\n      <td>NaN</td>\n      <td>NO</td>\n      <td>Health Status is \"Recovered\", but no Date Reco...</td>\n    </tr>\n    <tr>\n      <th>3</th>\n      <td>C556553</td>\n      <td>30.0</td>\n      <td>30 to 34</td>\n      <td>FEMALE</td>\n      <td>2020-05-27</td>\n      <td>2020-05-27</td>\n      <td>2020-05-31</td>\n      <td>NaN</td>\n      <td>NaN</td>\n      <td>RECOVERED</td>\n      <td>...</td>\n      <td>NaN</td>\n      <td>NaN</td>\n      <td>NaN</td>\n      <td>NaN</td>\n      <td>NaN</td>\n      <td>RECOVERED</td>\n      <td>NO</td>\n      <td>NaN</td>\n      <td>NO</td>\n      <td>Removal Type is \"Recovered\", but no Recovered ...</td>\n    </tr>\n    <tr>\n      <th>4</th>\n      <td>C210854</td>\n      <td>33.0</td>\n      <td>30 to 34</td>\n      <td>MALE</td>\n      <td>2020-07-21</td>\n      <td>2020-07-24</td>\n      <td>2020-07-28</td>\n      <td>NaN</td>\n      <td>NaN</td>\n      <td>RECOVERED</td>\n      <td>...</td>\n      <td>NaN</td>\n      <td>NaN</td>\n      <td>NaN</td>\n      <td>NaN</td>\n      <td>NaN</td>\n      <td>RECOVERED</td>\n      <td>NO</td>\n      <td>NaN</td>\n      <td>NaN</td>\n      <td>Health Status is \"Recovered\", but no Date Reco...</td>\n    </tr>\n    <tr>\n      <th>...</th>\n      <td>...</td>\n      <td>...</td>\n      <td>...</td>\n      <td>...</td>\n      <td>...</td>\n      <td>...</td>\n      <td>...</td>\n      <td>...</td>\n      <td>...</td>\n      <td>...</td>\n      <td>...</td>\n      <td>...</td>\n      <td>...</td>\n      <td>...</td>\n      <td>...</td>\n      <td>...</td>\n      <td>...</td>\n      <td>...</td>\n      <td>...</td>\n      <td>...</td>\n      <td>...</td>\n    </tr>\n    <tr>\n      <th>380724</th>\n      <td>C881229</td>\n      <td>29.0</td>\n      <td>25 to 29</td>\n      <td>MALE</td>\n      <td>2020-09-09</td>\n      <td>2020-09-13</td>\n      <td>2020-09-16</td>\n      <td>NaN</td>\n      <td>2020-09-24</td>\n      <td>RECOVERED</td>\n      <td>...</td>\n      <td>ROMBLON</td>\n      <td>CALATRAVA</td>\n      <td>PH175904000</td>\n      <td>BALOGO</td>\n      <td>PH175904001</td>\n      <td>RECOVERED</td>\n      <td>YES</td>\n      <td>NaN</td>\n      <td>NaN</td>\n      <td>NaN</td>\n    </tr>\n    <tr>\n      <th>380725</th>\n      <td>C591169</td>\n      <td>22.0</td>\n      <td>20 to 24</td>\n      <td>MALE</td>\n      <td>2020-09-09</td>\n      <td>2020-09-13</td>\n      <td>2020-09-16</td>\n      <td>NaN</td>\n      <td>2020-09-24</td>\n      <td>RECOVERED</td>\n      <td>...</td>\n      <td>ROMBLON</td>\n      <td>CALATRAVA</td>\n      <td>PH175904000</td>\n      <td>BALOGO</td>\n      <td>PH175904001</td>\n      <td>RECOVERED</td>\n      <td>YES</td>\n      <td>NaN</td>\n      <td>NaN</td>\n      <td>NaN</td>\n    </tr>\n    <tr>\n      <th>380726</th>\n      <td>C325398</td>\n      <td>27.0</td>\n      <td>25 to 29</td>\n      <td>FEMALE</td>\n      <td>2020-09-09</td>\n      <td>2020-09-13</td>\n      <td>2020-09-16</td>\n      <td>NaN</td>\n      <td>2020-09-24</td>\n      <td>RECOVERED</td>\n      <td>...</td>\n      <td>ROMBLON</td>\n      <td>CALATRAVA</td>\n      <td>PH175904000</td>\n      <td>BALOGO</td>\n      <td>PH175904001</td>\n      <td>RECOVERED</td>\n      <td>YES</td>\n      <td>NaN</td>\n      <td>NO</td>\n      <td>Age or Birthdate is Invalid</td>\n    </tr>\n    <tr>\n      <th>380727</th>\n      <td>C768847</td>\n      <td>46.0</td>\n      <td>45 to 49</td>\n      <td>FEMALE</td>\n      <td>2020-08-24</td>\n      <td>2020-08-28</td>\n      <td>2020-08-30</td>\n      <td>NaN</td>\n      <td>2020-09-07</td>\n      <td>RECOVERED</td>\n      <td>...</td>\n      <td>ROMBLON</td>\n      <td>SANTA MARIA (IMELDA)</td>\n      <td>PH175917000</td>\n      <td>NaN</td>\n      <td>NaN</td>\n      <td>RECOVERED</td>\n      <td>YES</td>\n      <td>2020-08-20</td>\n      <td>NO</td>\n      <td>NaN</td>\n    </tr>\n    <tr>\n      <th>380728</th>\n      <td>C138460</td>\n      <td>1.0</td>\n      <td>0 to 4</td>\n      <td>MALE</td>\n      <td>2020-08-24</td>\n      <td>2020-08-28</td>\n      <td>2020-08-30</td>\n      <td>NaN</td>\n      <td>2020-09-07</td>\n      <td>RECOVERED</td>\n      <td>...</td>\n      <td>ROMBLON</td>\n      <td>SANTA MARIA (IMELDA)</td>\n      <td>PH175917000</td>\n      <td>NaN</td>\n      <td>NaN</td>\n      <td>RECOVERED</td>\n      <td>YES</td>\n      <td>2020-08-20</td>\n      <td>NaN</td>\n      <td>Age or Birthdate is Invalid\\nUnexpected change...</td>\n    </tr>\n  </tbody>\n</table>\n<p>380729 rows × 22 columns</p>\n</div>"
     },
     "metadata": {},
     "execution_count": 2
    }
   ],
   "source": [
    "data = pd.read_csv(r'DOH COVID Data Drop_ 20201031 - 04 Case Information.csv')\n",
    "data"
   ]
  },
  {
   "cell_type": "code",
   "execution_count": 3,
   "metadata": {
    "scrolled": true
   },
   "outputs": [
    {
     "output_type": "stream",
     "name": "stdout",
     "text": [
      "<class 'pandas.core.frame.DataFrame'>\nRangeIndex: 380729 entries, 0 to 380728\nData columns (total 22 columns):\n #   Column             Non-Null Count   Dtype  \n---  ------             --------------   -----  \n 0   CaseCode           380729 non-null  object \n 1   Age                378546 non-null  float64\n 2   AgeGroup           378546 non-null  object \n 3   Sex                380729 non-null  object \n 4   DateSpecimen       318641 non-null  object \n 5   DateResultRelease  319409 non-null  object \n 6   DateRepConf        380729 non-null  object \n 7   DateDied           7155 non-null    object \n 8   DateRecover        91993 non-null   object \n 9   RemovalType        338267 non-null  object \n 10  Admitted           380579 non-null  object \n 11  RegionRes          377056 non-null  object \n 12  ProvRes            355798 non-null  object \n 13  CityMunRes         345275 non-null  object \n 14  CityMuniPSGC       345275 non-null  object \n 15  BarangayRes        151373 non-null  object \n 16  BarangayPSGC       151373 non-null  object \n 17  HealthStatus       380729 non-null  object \n 18  Quarantined        380575 non-null  object \n 19  DateOnset          124491 non-null  object \n 20  Pregnanttab        172010 non-null  object \n 21  ValidationStatus   251828 non-null  object \ndtypes: float64(1), object(21)\nmemory usage: 63.9+ MB\n"
     ]
    }
   ],
   "source": [
    "data.info()"
   ]
  },
  {
   "cell_type": "code",
   "execution_count": 4,
   "metadata": {},
   "outputs": [
    {
     "output_type": "execute_result",
     "data": {
      "text/plain": [
       "         Age DateSpecimen                 RegionRes            CityMunRes  \\\n",
       "0       25.0   2020-07-14  Region XII: SOCCSKSARGEN                   NaN   \n",
       "1       54.0   2020-07-27                       NaN                   NaN   \n",
       "2       50.0   2020-07-18                       ROF                   NaN   \n",
       "3       30.0   2020-05-27                       NCR                   NaN   \n",
       "4       33.0   2020-07-21                       NCR                   NaN   \n",
       "...      ...          ...                       ...                   ...   \n",
       "380724  29.0   2020-09-09     Region IV-B: MIMAROPA             CALATRAVA   \n",
       "380725  22.0   2020-09-09     Region IV-B: MIMAROPA             CALATRAVA   \n",
       "380726  27.0   2020-09-09     Region IV-B: MIMAROPA             CALATRAVA   \n",
       "380727  46.0   2020-08-24     Region IV-B: MIMAROPA  SANTA MARIA (IMELDA)   \n",
       "380728   1.0   2020-08-24     Region IV-B: MIMAROPA  SANTA MARIA (IMELDA)   \n",
       "\n",
       "       HealthStatus Quarantined  \n",
       "0         RECOVERED          NO  \n",
       "1         RECOVERED          NO  \n",
       "2         RECOVERED          NO  \n",
       "3         RECOVERED          NO  \n",
       "4         RECOVERED          NO  \n",
       "...             ...         ...  \n",
       "380724    RECOVERED         YES  \n",
       "380725    RECOVERED         YES  \n",
       "380726    RECOVERED         YES  \n",
       "380727    RECOVERED         YES  \n",
       "380728    RECOVERED         YES  \n",
       "\n",
       "[380729 rows x 6 columns]"
      ],
      "text/html": "<div>\n<style scoped>\n    .dataframe tbody tr th:only-of-type {\n        vertical-align: middle;\n    }\n\n    .dataframe tbody tr th {\n        vertical-align: top;\n    }\n\n    .dataframe thead th {\n        text-align: right;\n    }\n</style>\n<table border=\"1\" class=\"dataframe\">\n  <thead>\n    <tr style=\"text-align: right;\">\n      <th></th>\n      <th>Age</th>\n      <th>DateSpecimen</th>\n      <th>RegionRes</th>\n      <th>CityMunRes</th>\n      <th>HealthStatus</th>\n      <th>Quarantined</th>\n    </tr>\n  </thead>\n  <tbody>\n    <tr>\n      <th>0</th>\n      <td>25.0</td>\n      <td>2020-07-14</td>\n      <td>Region XII: SOCCSKSARGEN</td>\n      <td>NaN</td>\n      <td>RECOVERED</td>\n      <td>NO</td>\n    </tr>\n    <tr>\n      <th>1</th>\n      <td>54.0</td>\n      <td>2020-07-27</td>\n      <td>NaN</td>\n      <td>NaN</td>\n      <td>RECOVERED</td>\n      <td>NO</td>\n    </tr>\n    <tr>\n      <th>2</th>\n      <td>50.0</td>\n      <td>2020-07-18</td>\n      <td>ROF</td>\n      <td>NaN</td>\n      <td>RECOVERED</td>\n      <td>NO</td>\n    </tr>\n    <tr>\n      <th>3</th>\n      <td>30.0</td>\n      <td>2020-05-27</td>\n      <td>NCR</td>\n      <td>NaN</td>\n      <td>RECOVERED</td>\n      <td>NO</td>\n    </tr>\n    <tr>\n      <th>4</th>\n      <td>33.0</td>\n      <td>2020-07-21</td>\n      <td>NCR</td>\n      <td>NaN</td>\n      <td>RECOVERED</td>\n      <td>NO</td>\n    </tr>\n    <tr>\n      <th>...</th>\n      <td>...</td>\n      <td>...</td>\n      <td>...</td>\n      <td>...</td>\n      <td>...</td>\n      <td>...</td>\n    </tr>\n    <tr>\n      <th>380724</th>\n      <td>29.0</td>\n      <td>2020-09-09</td>\n      <td>Region IV-B: MIMAROPA</td>\n      <td>CALATRAVA</td>\n      <td>RECOVERED</td>\n      <td>YES</td>\n    </tr>\n    <tr>\n      <th>380725</th>\n      <td>22.0</td>\n      <td>2020-09-09</td>\n      <td>Region IV-B: MIMAROPA</td>\n      <td>CALATRAVA</td>\n      <td>RECOVERED</td>\n      <td>YES</td>\n    </tr>\n    <tr>\n      <th>380726</th>\n      <td>27.0</td>\n      <td>2020-09-09</td>\n      <td>Region IV-B: MIMAROPA</td>\n      <td>CALATRAVA</td>\n      <td>RECOVERED</td>\n      <td>YES</td>\n    </tr>\n    <tr>\n      <th>380727</th>\n      <td>46.0</td>\n      <td>2020-08-24</td>\n      <td>Region IV-B: MIMAROPA</td>\n      <td>SANTA MARIA (IMELDA)</td>\n      <td>RECOVERED</td>\n      <td>YES</td>\n    </tr>\n    <tr>\n      <th>380728</th>\n      <td>1.0</td>\n      <td>2020-08-24</td>\n      <td>Region IV-B: MIMAROPA</td>\n      <td>SANTA MARIA (IMELDA)</td>\n      <td>RECOVERED</td>\n      <td>YES</td>\n    </tr>\n  </tbody>\n</table>\n<p>380729 rows × 6 columns</p>\n</div>"
     },
     "metadata": {},
     "execution_count": 4
    }
   ],
   "source": [
    "df = data.drop('CaseCode', axis=1)\n",
    "df = df.drop(df.loc[:,'AgeGroup':'Sex'].columns, axis=1)\n",
    "df = df.drop(df.loc[:, 'DateResultRelease':'Admitted'].columns, axis=1)\n",
    "df = df.drop('ProvRes', axis=1)\n",
    "df = df.drop(df.loc[:, 'CityMuniPSGC':'BarangayPSGC'].columns, axis=1)\n",
    "df = df.drop(df.loc[:, 'DateOnset':'ValidationStatus'].columns, axis=1)\n",
    "df"
   ]
  },
  {
   "cell_type": "code",
   "execution_count": 5,
   "metadata": {},
   "outputs": [
    {
     "output_type": "execute_result",
     "data": {
      "text/plain": [
       "['Age',\n",
       " 'DateSpecimen',\n",
       " 'RegionRes',\n",
       " 'CityMunRes',\n",
       " 'HealthStatus',\n",
       " 'Quarantined']"
      ]
     },
     "metadata": {},
     "execution_count": 5
    }
   ],
   "source": [
    "titles = list(df.columns)\n",
    "titles"
   ]
  },
  {
   "cell_type": "code",
   "execution_count": 6,
   "metadata": {},
   "outputs": [
    {
     "output_type": "execute_result",
     "data": {
      "text/plain": [
       "['Age',\n",
       " 'DateSpecimen',\n",
       " 'CityMunRes',\n",
       " 'RegionRes',\n",
       " 'Quarantined',\n",
       " 'HealthStatus']"
      ]
     },
     "metadata": {},
     "execution_count": 6
    }
   ],
   "source": [
    "titles[4], titles[5] = titles[5], titles[4]\n",
    "titles[2], titles[3] = titles[3], titles[2]\n",
    "titles"
   ]
  },
  {
   "cell_type": "code",
   "execution_count": 7,
   "metadata": {},
   "outputs": [
    {
     "output_type": "execute_result",
     "data": {
      "text/plain": [
       "         Age DateSpecimen            CityMunRes                 RegionRes  \\\n",
       "0       25.0   2020-07-14                   NaN  Region XII: SOCCSKSARGEN   \n",
       "1       54.0   2020-07-27                   NaN                       NaN   \n",
       "2       50.0   2020-07-18                   NaN                       ROF   \n",
       "3       30.0   2020-05-27                   NaN                       NCR   \n",
       "4       33.0   2020-07-21                   NaN                       NCR   \n",
       "...      ...          ...                   ...                       ...   \n",
       "380724  29.0   2020-09-09             CALATRAVA     Region IV-B: MIMAROPA   \n",
       "380725  22.0   2020-09-09             CALATRAVA     Region IV-B: MIMAROPA   \n",
       "380726  27.0   2020-09-09             CALATRAVA     Region IV-B: MIMAROPA   \n",
       "380727  46.0   2020-08-24  SANTA MARIA (IMELDA)     Region IV-B: MIMAROPA   \n",
       "380728   1.0   2020-08-24  SANTA MARIA (IMELDA)     Region IV-B: MIMAROPA   \n",
       "\n",
       "       Quarantined HealthStatus  \n",
       "0               NO    RECOVERED  \n",
       "1               NO    RECOVERED  \n",
       "2               NO    RECOVERED  \n",
       "3               NO    RECOVERED  \n",
       "4               NO    RECOVERED  \n",
       "...            ...          ...  \n",
       "380724         YES    RECOVERED  \n",
       "380725         YES    RECOVERED  \n",
       "380726         YES    RECOVERED  \n",
       "380727         YES    RECOVERED  \n",
       "380728         YES    RECOVERED  \n",
       "\n",
       "[380729 rows x 6 columns]"
      ],
      "text/html": "<div>\n<style scoped>\n    .dataframe tbody tr th:only-of-type {\n        vertical-align: middle;\n    }\n\n    .dataframe tbody tr th {\n        vertical-align: top;\n    }\n\n    .dataframe thead th {\n        text-align: right;\n    }\n</style>\n<table border=\"1\" class=\"dataframe\">\n  <thead>\n    <tr style=\"text-align: right;\">\n      <th></th>\n      <th>Age</th>\n      <th>DateSpecimen</th>\n      <th>CityMunRes</th>\n      <th>RegionRes</th>\n      <th>Quarantined</th>\n      <th>HealthStatus</th>\n    </tr>\n  </thead>\n  <tbody>\n    <tr>\n      <th>0</th>\n      <td>25.0</td>\n      <td>2020-07-14</td>\n      <td>NaN</td>\n      <td>Region XII: SOCCSKSARGEN</td>\n      <td>NO</td>\n      <td>RECOVERED</td>\n    </tr>\n    <tr>\n      <th>1</th>\n      <td>54.0</td>\n      <td>2020-07-27</td>\n      <td>NaN</td>\n      <td>NaN</td>\n      <td>NO</td>\n      <td>RECOVERED</td>\n    </tr>\n    <tr>\n      <th>2</th>\n      <td>50.0</td>\n      <td>2020-07-18</td>\n      <td>NaN</td>\n      <td>ROF</td>\n      <td>NO</td>\n      <td>RECOVERED</td>\n    </tr>\n    <tr>\n      <th>3</th>\n      <td>30.0</td>\n      <td>2020-05-27</td>\n      <td>NaN</td>\n      <td>NCR</td>\n      <td>NO</td>\n      <td>RECOVERED</td>\n    </tr>\n    <tr>\n      <th>4</th>\n      <td>33.0</td>\n      <td>2020-07-21</td>\n      <td>NaN</td>\n      <td>NCR</td>\n      <td>NO</td>\n      <td>RECOVERED</td>\n    </tr>\n    <tr>\n      <th>...</th>\n      <td>...</td>\n      <td>...</td>\n      <td>...</td>\n      <td>...</td>\n      <td>...</td>\n      <td>...</td>\n    </tr>\n    <tr>\n      <th>380724</th>\n      <td>29.0</td>\n      <td>2020-09-09</td>\n      <td>CALATRAVA</td>\n      <td>Region IV-B: MIMAROPA</td>\n      <td>YES</td>\n      <td>RECOVERED</td>\n    </tr>\n    <tr>\n      <th>380725</th>\n      <td>22.0</td>\n      <td>2020-09-09</td>\n      <td>CALATRAVA</td>\n      <td>Region IV-B: MIMAROPA</td>\n      <td>YES</td>\n      <td>RECOVERED</td>\n    </tr>\n    <tr>\n      <th>380726</th>\n      <td>27.0</td>\n      <td>2020-09-09</td>\n      <td>CALATRAVA</td>\n      <td>Region IV-B: MIMAROPA</td>\n      <td>YES</td>\n      <td>RECOVERED</td>\n    </tr>\n    <tr>\n      <th>380727</th>\n      <td>46.0</td>\n      <td>2020-08-24</td>\n      <td>SANTA MARIA (IMELDA)</td>\n      <td>Region IV-B: MIMAROPA</td>\n      <td>YES</td>\n      <td>RECOVERED</td>\n    </tr>\n    <tr>\n      <th>380728</th>\n      <td>1.0</td>\n      <td>2020-08-24</td>\n      <td>SANTA MARIA (IMELDA)</td>\n      <td>Region IV-B: MIMAROPA</td>\n      <td>YES</td>\n      <td>RECOVERED</td>\n    </tr>\n  </tbody>\n</table>\n<p>380729 rows × 6 columns</p>\n</div>"
     },
     "metadata": {},
     "execution_count": 7
    }
   ],
   "source": [
    "df = df[titles]\n",
    "df"
   ]
  },
  {
   "cell_type": "code",
   "execution_count": 8,
   "metadata": {},
   "outputs": [
    {
     "output_type": "execute_result",
     "data": {
      "text/plain": [
       "         Age DateSpecimen       CityMunRes RegionRes Quarantined HealthStatus\n",
       "376     59.0   2020-09-10  CITY OF NAVOTAS       NCR         YES    RECOVERED\n",
       "736     32.0   2020-09-28  CITY OF NAVOTAS       NCR         YES    RECOVERED\n",
       "856     39.0   2020-10-02  CITY OF NAVOTAS       NCR         YES    RECOVERED\n",
       "1167    46.0   2020-09-10  CITY OF NAVOTAS       NCR         YES    RECOVERED\n",
       "1184    59.0   2020-09-22   CITY OF MANILA       NCR          NO    RECOVERED\n",
       "...      ...          ...              ...       ...         ...          ...\n",
       "375985  24.0   2020-09-25      TAGUIG CITY       NCR          NO    RECOVERED\n",
       "375989  48.0   2020-09-24      TAGUIG CITY       NCR          NO    RECOVERED\n",
       "376033  41.0   2020-09-23      TAGUIG CITY       NCR          NO    RECOVERED\n",
       "376034  57.0   2020-09-28      TAGUIG CITY       NCR          NO    RECOVERED\n",
       "376040  32.0   2020-09-25      TAGUIG CITY       NCR          NO    RECOVERED\n",
       "\n",
       "[20658 rows x 6 columns]"
      ],
      "text/html": "<div>\n<style scoped>\n    .dataframe tbody tr th:only-of-type {\n        vertical-align: middle;\n    }\n\n    .dataframe tbody tr th {\n        vertical-align: top;\n    }\n\n    .dataframe thead th {\n        text-align: right;\n    }\n</style>\n<table border=\"1\" class=\"dataframe\">\n  <thead>\n    <tr style=\"text-align: right;\">\n      <th></th>\n      <th>Age</th>\n      <th>DateSpecimen</th>\n      <th>CityMunRes</th>\n      <th>RegionRes</th>\n      <th>Quarantined</th>\n      <th>HealthStatus</th>\n    </tr>\n  </thead>\n  <tbody>\n    <tr>\n      <th>376</th>\n      <td>59.0</td>\n      <td>2020-09-10</td>\n      <td>CITY OF NAVOTAS</td>\n      <td>NCR</td>\n      <td>YES</td>\n      <td>RECOVERED</td>\n    </tr>\n    <tr>\n      <th>736</th>\n      <td>32.0</td>\n      <td>2020-09-28</td>\n      <td>CITY OF NAVOTAS</td>\n      <td>NCR</td>\n      <td>YES</td>\n      <td>RECOVERED</td>\n    </tr>\n    <tr>\n      <th>856</th>\n      <td>39.0</td>\n      <td>2020-10-02</td>\n      <td>CITY OF NAVOTAS</td>\n      <td>NCR</td>\n      <td>YES</td>\n      <td>RECOVERED</td>\n    </tr>\n    <tr>\n      <th>1167</th>\n      <td>46.0</td>\n      <td>2020-09-10</td>\n      <td>CITY OF NAVOTAS</td>\n      <td>NCR</td>\n      <td>YES</td>\n      <td>RECOVERED</td>\n    </tr>\n    <tr>\n      <th>1184</th>\n      <td>59.0</td>\n      <td>2020-09-22</td>\n      <td>CITY OF MANILA</td>\n      <td>NCR</td>\n      <td>NO</td>\n      <td>RECOVERED</td>\n    </tr>\n    <tr>\n      <th>...</th>\n      <td>...</td>\n      <td>...</td>\n      <td>...</td>\n      <td>...</td>\n      <td>...</td>\n      <td>...</td>\n    </tr>\n    <tr>\n      <th>375985</th>\n      <td>24.0</td>\n      <td>2020-09-25</td>\n      <td>TAGUIG CITY</td>\n      <td>NCR</td>\n      <td>NO</td>\n      <td>RECOVERED</td>\n    </tr>\n    <tr>\n      <th>375989</th>\n      <td>48.0</td>\n      <td>2020-09-24</td>\n      <td>TAGUIG CITY</td>\n      <td>NCR</td>\n      <td>NO</td>\n      <td>RECOVERED</td>\n    </tr>\n    <tr>\n      <th>376033</th>\n      <td>41.0</td>\n      <td>2020-09-23</td>\n      <td>TAGUIG CITY</td>\n      <td>NCR</td>\n      <td>NO</td>\n      <td>RECOVERED</td>\n    </tr>\n    <tr>\n      <th>376034</th>\n      <td>57.0</td>\n      <td>2020-09-28</td>\n      <td>TAGUIG CITY</td>\n      <td>NCR</td>\n      <td>NO</td>\n      <td>RECOVERED</td>\n    </tr>\n    <tr>\n      <th>376040</th>\n      <td>32.0</td>\n      <td>2020-09-25</td>\n      <td>TAGUIG CITY</td>\n      <td>NCR</td>\n      <td>NO</td>\n      <td>RECOVERED</td>\n    </tr>\n  </tbody>\n</table>\n<p>20658 rows × 6 columns</p>\n</div>"
     },
     "metadata": {},
     "execution_count": 8
    }
   ],
   "source": [
    "start_date = '2020-09-10'\n",
    "end_date = '2020-10-10'\n",
    "\n",
    "df = df.loc[df['RegionRes'] == 'NCR']\n",
    "df = df.loc[(df['DateSpecimen'] >= start_date) & ((df['DateSpecimen'] <= end_date))]\n",
    "df"
   ]
  },
  {
   "cell_type": "code",
   "execution_count": 9,
   "metadata": {},
   "outputs": [
    {
     "output_type": "execute_result",
     "data": {
      "text/plain": [
       "['CITY OF NAVOTAS',\n",
       " 'CITY OF MANILA',\n",
       " nan,\n",
       " 'CITY OF MALABON',\n",
       " 'CITY OF PASIG',\n",
       " 'CALOOCAN CITY',\n",
       " 'QUEZON CITY',\n",
       " 'CITY OF SAN JUAN',\n",
       " 'CITY OF PARAÑAQUE',\n",
       " 'CITY OF MAKATI',\n",
       " 'CITY OF MARIKINA',\n",
       " 'CITY OF MANDALUYONG',\n",
       " 'CITY OF VALENZUELA',\n",
       " 'CITY OF LAS PIÑAS',\n",
       " 'CITY OF MUNTINLUPA',\n",
       " 'PASAY CITY',\n",
       " 'PATEROS',\n",
       " 'TAGUIG CITY']"
      ]
     },
     "metadata": {},
     "execution_count": 9
    }
   ],
   "source": [
    "#Cities in NCR\n",
    "cities = df['CityMunRes'].unique().tolist()\n",
    "\n",
    "cities"
   ]
  },
  {
   "cell_type": "code",
   "execution_count": 10,
   "metadata": {},
   "outputs": [
    {
     "output_type": "execute_result",
     "data": {
      "text/plain": [
       "['RECOVERED', 'MILD', 'SEVERE', 'DIED', 'ASYMPTOMATIC', 'CRITICAL']"
      ]
     },
     "metadata": {},
     "execution_count": 10
    }
   ],
   "source": [
    "hpStats = df['HealthStatus'].unique().tolist()\n",
    "hpStats"
   ]
  },
  {
   "cell_type": "code",
   "execution_count": 11,
   "metadata": {},
   "outputs": [
    {
     "output_type": "execute_result",
     "data": {
      "text/plain": [
       "['RECOVERED', 'SICK', 'DIED']"
      ]
     },
     "metadata": {},
     "execution_count": 11
    }
   ],
   "source": [
    "#df = df.loc[(df['CityMunRes'] == 'QUEZON CITY') | (df['CityMunRes'] == 'CITY OF MAKATI')]\n",
    "df = df.reset_index(drop=True)\n",
    "df['HealthStatus'].replace(to_replace=['MILD','SEVERE','ASYMPTOMATIC','CRITICAL'],value='SICK',inplace=True)\n",
    "hpStats = df['HealthStatus'].unique().tolist()\n",
    "\n",
    "hpStats"
   ]
  },
  {
   "cell_type": "code",
   "execution_count": 12,
   "metadata": {
    "scrolled": false
   },
   "outputs": [
    {
     "output_type": "execute_result",
     "data": {
      "text/plain": [
       "        Age DateSpecimen       CityMunRes RegionRes Quarantined HealthStatus\n",
       "0      59.0   2020-09-10  CITY OF NAVOTAS       NCR         YES    RECOVERED\n",
       "1      32.0   2020-09-28  CITY OF NAVOTAS       NCR         YES    RECOVERED\n",
       "2      39.0   2020-10-02  CITY OF NAVOTAS       NCR         YES    RECOVERED\n",
       "3      46.0   2020-09-10  CITY OF NAVOTAS       NCR         YES    RECOVERED\n",
       "4      59.0   2020-09-22   CITY OF MANILA       NCR          NO    RECOVERED\n",
       "...     ...          ...              ...       ...         ...          ...\n",
       "20606  24.0   2020-09-25      TAGUIG CITY       NCR          NO    RECOVERED\n",
       "20607  48.0   2020-09-24      TAGUIG CITY       NCR          NO    RECOVERED\n",
       "20608  41.0   2020-09-23      TAGUIG CITY       NCR          NO    RECOVERED\n",
       "20609  57.0   2020-09-28      TAGUIG CITY       NCR          NO    RECOVERED\n",
       "20610  32.0   2020-09-25      TAGUIG CITY       NCR          NO    RECOVERED\n",
       "\n",
       "[20611 rows x 6 columns]"
      ],
      "text/html": "<div>\n<style scoped>\n    .dataframe tbody tr th:only-of-type {\n        vertical-align: middle;\n    }\n\n    .dataframe tbody tr th {\n        vertical-align: top;\n    }\n\n    .dataframe thead th {\n        text-align: right;\n    }\n</style>\n<table border=\"1\" class=\"dataframe\">\n  <thead>\n    <tr style=\"text-align: right;\">\n      <th></th>\n      <th>Age</th>\n      <th>DateSpecimen</th>\n      <th>CityMunRes</th>\n      <th>RegionRes</th>\n      <th>Quarantined</th>\n      <th>HealthStatus</th>\n    </tr>\n  </thead>\n  <tbody>\n    <tr>\n      <th>0</th>\n      <td>59.0</td>\n      <td>2020-09-10</td>\n      <td>CITY OF NAVOTAS</td>\n      <td>NCR</td>\n      <td>YES</td>\n      <td>RECOVERED</td>\n    </tr>\n    <tr>\n      <th>1</th>\n      <td>32.0</td>\n      <td>2020-09-28</td>\n      <td>CITY OF NAVOTAS</td>\n      <td>NCR</td>\n      <td>YES</td>\n      <td>RECOVERED</td>\n    </tr>\n    <tr>\n      <th>2</th>\n      <td>39.0</td>\n      <td>2020-10-02</td>\n      <td>CITY OF NAVOTAS</td>\n      <td>NCR</td>\n      <td>YES</td>\n      <td>RECOVERED</td>\n    </tr>\n    <tr>\n      <th>3</th>\n      <td>46.0</td>\n      <td>2020-09-10</td>\n      <td>CITY OF NAVOTAS</td>\n      <td>NCR</td>\n      <td>YES</td>\n      <td>RECOVERED</td>\n    </tr>\n    <tr>\n      <th>4</th>\n      <td>59.0</td>\n      <td>2020-09-22</td>\n      <td>CITY OF MANILA</td>\n      <td>NCR</td>\n      <td>NO</td>\n      <td>RECOVERED</td>\n    </tr>\n    <tr>\n      <th>...</th>\n      <td>...</td>\n      <td>...</td>\n      <td>...</td>\n      <td>...</td>\n      <td>...</td>\n      <td>...</td>\n    </tr>\n    <tr>\n      <th>20606</th>\n      <td>24.0</td>\n      <td>2020-09-25</td>\n      <td>TAGUIG CITY</td>\n      <td>NCR</td>\n      <td>NO</td>\n      <td>RECOVERED</td>\n    </tr>\n    <tr>\n      <th>20607</th>\n      <td>48.0</td>\n      <td>2020-09-24</td>\n      <td>TAGUIG CITY</td>\n      <td>NCR</td>\n      <td>NO</td>\n      <td>RECOVERED</td>\n    </tr>\n    <tr>\n      <th>20608</th>\n      <td>41.0</td>\n      <td>2020-09-23</td>\n      <td>TAGUIG CITY</td>\n      <td>NCR</td>\n      <td>NO</td>\n      <td>RECOVERED</td>\n    </tr>\n    <tr>\n      <th>20609</th>\n      <td>57.0</td>\n      <td>2020-09-28</td>\n      <td>TAGUIG CITY</td>\n      <td>NCR</td>\n      <td>NO</td>\n      <td>RECOVERED</td>\n    </tr>\n    <tr>\n      <th>20610</th>\n      <td>32.0</td>\n      <td>2020-09-25</td>\n      <td>TAGUIG CITY</td>\n      <td>NCR</td>\n      <td>NO</td>\n      <td>RECOVERED</td>\n    </tr>\n  </tbody>\n</table>\n<p>20611 rows × 6 columns</p>\n</div>"
     },
     "metadata": {},
     "execution_count": 12
    }
   ],
   "source": [
    "df = df.dropna()\n",
    "df = df.reset_index(drop=True)\n",
    "df"
   ]
  },
  {
   "cell_type": "code",
   "execution_count": 13,
   "metadata": {},
   "outputs": [
    {
     "output_type": "execute_result",
     "data": {
      "text/plain": [
       "        Age DateSpecimen       CityMunRes RegionRes Quarantined HealthStatus\n",
       "0      59.0   2020-09-10  CITY OF NAVOTAS       NCR         YES    RECOVERED\n",
       "1      32.0   2020-09-28  CITY OF NAVOTAS       NCR         YES    RECOVERED\n",
       "2      39.0   2020-10-02  CITY OF NAVOTAS       NCR         YES    RECOVERED\n",
       "3      46.0   2020-09-10  CITY OF NAVOTAS       NCR         YES    RECOVERED\n",
       "4      59.0   2020-09-22   CITY OF MANILA       NCR          NO    RECOVERED\n",
       "...     ...          ...              ...       ...         ...          ...\n",
       "20606  24.0   2020-09-25      TAGUIG CITY       NCR          NO    RECOVERED\n",
       "20607  48.0   2020-09-24      TAGUIG CITY       NCR          NO    RECOVERED\n",
       "20608  41.0   2020-09-23      TAGUIG CITY       NCR          NO    RECOVERED\n",
       "20609  57.0   2020-09-28      TAGUIG CITY       NCR          NO    RECOVERED\n",
       "20610  32.0   2020-09-25      TAGUIG CITY       NCR          NO    RECOVERED\n",
       "\n",
       "[20611 rows x 6 columns]"
      ],
      "text/html": "<div>\n<style scoped>\n    .dataframe tbody tr th:only-of-type {\n        vertical-align: middle;\n    }\n\n    .dataframe tbody tr th {\n        vertical-align: top;\n    }\n\n    .dataframe thead th {\n        text-align: right;\n    }\n</style>\n<table border=\"1\" class=\"dataframe\">\n  <thead>\n    <tr style=\"text-align: right;\">\n      <th></th>\n      <th>Age</th>\n      <th>DateSpecimen</th>\n      <th>CityMunRes</th>\n      <th>RegionRes</th>\n      <th>Quarantined</th>\n      <th>HealthStatus</th>\n    </tr>\n  </thead>\n  <tbody>\n    <tr>\n      <th>0</th>\n      <td>59.0</td>\n      <td>2020-09-10</td>\n      <td>CITY OF NAVOTAS</td>\n      <td>NCR</td>\n      <td>YES</td>\n      <td>RECOVERED</td>\n    </tr>\n    <tr>\n      <th>1</th>\n      <td>32.0</td>\n      <td>2020-09-28</td>\n      <td>CITY OF NAVOTAS</td>\n      <td>NCR</td>\n      <td>YES</td>\n      <td>RECOVERED</td>\n    </tr>\n    <tr>\n      <th>2</th>\n      <td>39.0</td>\n      <td>2020-10-02</td>\n      <td>CITY OF NAVOTAS</td>\n      <td>NCR</td>\n      <td>YES</td>\n      <td>RECOVERED</td>\n    </tr>\n    <tr>\n      <th>3</th>\n      <td>46.0</td>\n      <td>2020-09-10</td>\n      <td>CITY OF NAVOTAS</td>\n      <td>NCR</td>\n      <td>YES</td>\n      <td>RECOVERED</td>\n    </tr>\n    <tr>\n      <th>4</th>\n      <td>59.0</td>\n      <td>2020-09-22</td>\n      <td>CITY OF MANILA</td>\n      <td>NCR</td>\n      <td>NO</td>\n      <td>RECOVERED</td>\n    </tr>\n    <tr>\n      <th>...</th>\n      <td>...</td>\n      <td>...</td>\n      <td>...</td>\n      <td>...</td>\n      <td>...</td>\n      <td>...</td>\n    </tr>\n    <tr>\n      <th>20606</th>\n      <td>24.0</td>\n      <td>2020-09-25</td>\n      <td>TAGUIG CITY</td>\n      <td>NCR</td>\n      <td>NO</td>\n      <td>RECOVERED</td>\n    </tr>\n    <tr>\n      <th>20607</th>\n      <td>48.0</td>\n      <td>2020-09-24</td>\n      <td>TAGUIG CITY</td>\n      <td>NCR</td>\n      <td>NO</td>\n      <td>RECOVERED</td>\n    </tr>\n    <tr>\n      <th>20608</th>\n      <td>41.0</td>\n      <td>2020-09-23</td>\n      <td>TAGUIG CITY</td>\n      <td>NCR</td>\n      <td>NO</td>\n      <td>RECOVERED</td>\n    </tr>\n    <tr>\n      <th>20609</th>\n      <td>57.0</td>\n      <td>2020-09-28</td>\n      <td>TAGUIG CITY</td>\n      <td>NCR</td>\n      <td>NO</td>\n      <td>RECOVERED</td>\n    </tr>\n    <tr>\n      <th>20610</th>\n      <td>32.0</td>\n      <td>2020-09-25</td>\n      <td>TAGUIG CITY</td>\n      <td>NCR</td>\n      <td>NO</td>\n      <td>RECOVERED</td>\n    </tr>\n  </tbody>\n</table>\n<p>20611 rows × 6 columns</p>\n</div>"
     },
     "metadata": {},
     "execution_count": 13
    }
   ],
   "source": [
    "df['DateSpecimen'] = pd.to_datetime(df['DateSpecimen'], format='%Y-%m-%d')\n",
    "df"
   ]
  },
  {
   "cell_type": "code",
   "execution_count": 14,
   "metadata": {},
   "outputs": [
    {
     "output_type": "execute_result",
     "data": {
      "text/plain": [
       "        Age DateSpecimen       CityMunRes RegionRes Quarantined HealthStatus\n",
       "0      59.0   09/10/2020  CITY OF NAVOTAS       NCR         YES    RECOVERED\n",
       "1      32.0   09/28/2020  CITY OF NAVOTAS       NCR         YES    RECOVERED\n",
       "2      39.0   10/02/2020  CITY OF NAVOTAS       NCR         YES    RECOVERED\n",
       "3      46.0   09/10/2020  CITY OF NAVOTAS       NCR         YES    RECOVERED\n",
       "4      59.0   09/22/2020   CITY OF MANILA       NCR          NO    RECOVERED\n",
       "...     ...          ...              ...       ...         ...          ...\n",
       "20606  24.0   09/25/2020      TAGUIG CITY       NCR          NO    RECOVERED\n",
       "20607  48.0   09/24/2020      TAGUIG CITY       NCR          NO    RECOVERED\n",
       "20608  41.0   09/23/2020      TAGUIG CITY       NCR          NO    RECOVERED\n",
       "20609  57.0   09/28/2020      TAGUIG CITY       NCR          NO    RECOVERED\n",
       "20610  32.0   09/25/2020      TAGUIG CITY       NCR          NO    RECOVERED\n",
       "\n",
       "[20611 rows x 6 columns]"
      ],
      "text/html": "<div>\n<style scoped>\n    .dataframe tbody tr th:only-of-type {\n        vertical-align: middle;\n    }\n\n    .dataframe tbody tr th {\n        vertical-align: top;\n    }\n\n    .dataframe thead th {\n        text-align: right;\n    }\n</style>\n<table border=\"1\" class=\"dataframe\">\n  <thead>\n    <tr style=\"text-align: right;\">\n      <th></th>\n      <th>Age</th>\n      <th>DateSpecimen</th>\n      <th>CityMunRes</th>\n      <th>RegionRes</th>\n      <th>Quarantined</th>\n      <th>HealthStatus</th>\n    </tr>\n  </thead>\n  <tbody>\n    <tr>\n      <th>0</th>\n      <td>59.0</td>\n      <td>09/10/2020</td>\n      <td>CITY OF NAVOTAS</td>\n      <td>NCR</td>\n      <td>YES</td>\n      <td>RECOVERED</td>\n    </tr>\n    <tr>\n      <th>1</th>\n      <td>32.0</td>\n      <td>09/28/2020</td>\n      <td>CITY OF NAVOTAS</td>\n      <td>NCR</td>\n      <td>YES</td>\n      <td>RECOVERED</td>\n    </tr>\n    <tr>\n      <th>2</th>\n      <td>39.0</td>\n      <td>10/02/2020</td>\n      <td>CITY OF NAVOTAS</td>\n      <td>NCR</td>\n      <td>YES</td>\n      <td>RECOVERED</td>\n    </tr>\n    <tr>\n      <th>3</th>\n      <td>46.0</td>\n      <td>09/10/2020</td>\n      <td>CITY OF NAVOTAS</td>\n      <td>NCR</td>\n      <td>YES</td>\n      <td>RECOVERED</td>\n    </tr>\n    <tr>\n      <th>4</th>\n      <td>59.0</td>\n      <td>09/22/2020</td>\n      <td>CITY OF MANILA</td>\n      <td>NCR</td>\n      <td>NO</td>\n      <td>RECOVERED</td>\n    </tr>\n    <tr>\n      <th>...</th>\n      <td>...</td>\n      <td>...</td>\n      <td>...</td>\n      <td>...</td>\n      <td>...</td>\n      <td>...</td>\n    </tr>\n    <tr>\n      <th>20606</th>\n      <td>24.0</td>\n      <td>09/25/2020</td>\n      <td>TAGUIG CITY</td>\n      <td>NCR</td>\n      <td>NO</td>\n      <td>RECOVERED</td>\n    </tr>\n    <tr>\n      <th>20607</th>\n      <td>48.0</td>\n      <td>09/24/2020</td>\n      <td>TAGUIG CITY</td>\n      <td>NCR</td>\n      <td>NO</td>\n      <td>RECOVERED</td>\n    </tr>\n    <tr>\n      <th>20608</th>\n      <td>41.0</td>\n      <td>09/23/2020</td>\n      <td>TAGUIG CITY</td>\n      <td>NCR</td>\n      <td>NO</td>\n      <td>RECOVERED</td>\n    </tr>\n    <tr>\n      <th>20609</th>\n      <td>57.0</td>\n      <td>09/28/2020</td>\n      <td>TAGUIG CITY</td>\n      <td>NCR</td>\n      <td>NO</td>\n      <td>RECOVERED</td>\n    </tr>\n    <tr>\n      <th>20610</th>\n      <td>32.0</td>\n      <td>09/25/2020</td>\n      <td>TAGUIG CITY</td>\n      <td>NCR</td>\n      <td>NO</td>\n      <td>RECOVERED</td>\n    </tr>\n  </tbody>\n</table>\n<p>20611 rows × 6 columns</p>\n</div>"
     },
     "metadata": {},
     "execution_count": 14
    }
   ],
   "source": [
    "df['DateSpecimen'] = df['DateSpecimen'].dt.strftime('%m/%d/%Y')\n",
    "df"
   ]
  },
  {
   "cell_type": "code",
   "execution_count": 15,
   "metadata": {},
   "outputs": [],
   "source": [
    "qc = df.loc[df['CityMunRes'] == 'CITY OF MALABON']\n",
    "mkt = df.loc[df['CityMunRes'] == 'CITY OF MAKATI']\n",
    "\n",
    "qc = qc.reset_index(drop=True)\n",
    "mkt = mkt.reset_index(drop=True)"
   ]
  },
  {
   "cell_type": "code",
   "execution_count": 16,
   "metadata": {
    "scrolled": false
   },
   "outputs": [
    {
     "output_type": "execute_result",
     "data": {
      "text/plain": [
       "      Age DateSpecimen       CityMunRes RegionRes Quarantined HealthStatus\n",
       "0    29.0   09/18/2020  CITY OF MALABON       NCR          NO    RECOVERED\n",
       "1    51.0   09/30/2020  CITY OF MALABON       NCR          NO    RECOVERED\n",
       "2    22.0   09/18/2020  CITY OF MALABON       NCR          NO    RECOVERED\n",
       "3    29.0   09/30/2020  CITY OF MALABON       NCR          NO    RECOVERED\n",
       "4    63.0   09/13/2020  CITY OF MALABON       NCR          NO    RECOVERED\n",
       "..    ...          ...              ...       ...         ...          ...\n",
       "446  33.0   09/23/2020  CITY OF MALABON       NCR          NO    RECOVERED\n",
       "447  32.0   09/23/2020  CITY OF MALABON       NCR          NO    RECOVERED\n",
       "448  19.0   09/16/2020  CITY OF MALABON       NCR          NO    RECOVERED\n",
       "449  76.0   09/30/2020  CITY OF MALABON       NCR          NO         DIED\n",
       "450  53.0   10/01/2020  CITY OF MALABON       NCR          NO    RECOVERED\n",
       "\n",
       "[451 rows x 6 columns]"
      ],
      "text/html": "<div>\n<style scoped>\n    .dataframe tbody tr th:only-of-type {\n        vertical-align: middle;\n    }\n\n    .dataframe tbody tr th {\n        vertical-align: top;\n    }\n\n    .dataframe thead th {\n        text-align: right;\n    }\n</style>\n<table border=\"1\" class=\"dataframe\">\n  <thead>\n    <tr style=\"text-align: right;\">\n      <th></th>\n      <th>Age</th>\n      <th>DateSpecimen</th>\n      <th>CityMunRes</th>\n      <th>RegionRes</th>\n      <th>Quarantined</th>\n      <th>HealthStatus</th>\n    </tr>\n  </thead>\n  <tbody>\n    <tr>\n      <th>0</th>\n      <td>29.0</td>\n      <td>09/18/2020</td>\n      <td>CITY OF MALABON</td>\n      <td>NCR</td>\n      <td>NO</td>\n      <td>RECOVERED</td>\n    </tr>\n    <tr>\n      <th>1</th>\n      <td>51.0</td>\n      <td>09/30/2020</td>\n      <td>CITY OF MALABON</td>\n      <td>NCR</td>\n      <td>NO</td>\n      <td>RECOVERED</td>\n    </tr>\n    <tr>\n      <th>2</th>\n      <td>22.0</td>\n      <td>09/18/2020</td>\n      <td>CITY OF MALABON</td>\n      <td>NCR</td>\n      <td>NO</td>\n      <td>RECOVERED</td>\n    </tr>\n    <tr>\n      <th>3</th>\n      <td>29.0</td>\n      <td>09/30/2020</td>\n      <td>CITY OF MALABON</td>\n      <td>NCR</td>\n      <td>NO</td>\n      <td>RECOVERED</td>\n    </tr>\n    <tr>\n      <th>4</th>\n      <td>63.0</td>\n      <td>09/13/2020</td>\n      <td>CITY OF MALABON</td>\n      <td>NCR</td>\n      <td>NO</td>\n      <td>RECOVERED</td>\n    </tr>\n    <tr>\n      <th>...</th>\n      <td>...</td>\n      <td>...</td>\n      <td>...</td>\n      <td>...</td>\n      <td>...</td>\n      <td>...</td>\n    </tr>\n    <tr>\n      <th>446</th>\n      <td>33.0</td>\n      <td>09/23/2020</td>\n      <td>CITY OF MALABON</td>\n      <td>NCR</td>\n      <td>NO</td>\n      <td>RECOVERED</td>\n    </tr>\n    <tr>\n      <th>447</th>\n      <td>32.0</td>\n      <td>09/23/2020</td>\n      <td>CITY OF MALABON</td>\n      <td>NCR</td>\n      <td>NO</td>\n      <td>RECOVERED</td>\n    </tr>\n    <tr>\n      <th>448</th>\n      <td>19.0</td>\n      <td>09/16/2020</td>\n      <td>CITY OF MALABON</td>\n      <td>NCR</td>\n      <td>NO</td>\n      <td>RECOVERED</td>\n    </tr>\n    <tr>\n      <th>449</th>\n      <td>76.0</td>\n      <td>09/30/2020</td>\n      <td>CITY OF MALABON</td>\n      <td>NCR</td>\n      <td>NO</td>\n      <td>DIED</td>\n    </tr>\n    <tr>\n      <th>450</th>\n      <td>53.0</td>\n      <td>10/01/2020</td>\n      <td>CITY OF MALABON</td>\n      <td>NCR</td>\n      <td>NO</td>\n      <td>RECOVERED</td>\n    </tr>\n  </tbody>\n</table>\n<p>451 rows × 6 columns</p>\n</div>"
     },
     "metadata": {},
     "execution_count": 16
    }
   ],
   "source": [
    "qc"
   ]
  },
  {
   "cell_type": "code",
   "execution_count": 17,
   "metadata": {},
   "outputs": [
    {
     "output_type": "execute_result",
     "data": {
      "text/plain": [
       "       Age DateSpecimen      CityMunRes RegionRes Quarantined HealthStatus\n",
       "0     44.0   09/14/2020  CITY OF MAKATI       NCR          NO    RECOVERED\n",
       "1     35.0   09/23/2020  CITY OF MAKATI       NCR          NO    RECOVERED\n",
       "2     25.0   09/22/2020  CITY OF MAKATI       NCR          NO    RECOVERED\n",
       "3     59.0   09/11/2020  CITY OF MAKATI       NCR          NO    RECOVERED\n",
       "4     51.0   09/24/2020  CITY OF MAKATI       NCR         YES    RECOVERED\n",
       "...    ...          ...             ...       ...         ...          ...\n",
       "1457  28.0   09/13/2020  CITY OF MAKATI       NCR          NO    RECOVERED\n",
       "1458  24.0   09/10/2020  CITY OF MAKATI       NCR          NO    RECOVERED\n",
       "1459  59.0   09/16/2020  CITY OF MAKATI       NCR          NO    RECOVERED\n",
       "1460  30.0   10/05/2020  CITY OF MAKATI       NCR          NO    RECOVERED\n",
       "1461  32.0   09/11/2020  CITY OF MAKATI       NCR          NO    RECOVERED\n",
       "\n",
       "[1462 rows x 6 columns]"
      ],
      "text/html": "<div>\n<style scoped>\n    .dataframe tbody tr th:only-of-type {\n        vertical-align: middle;\n    }\n\n    .dataframe tbody tr th {\n        vertical-align: top;\n    }\n\n    .dataframe thead th {\n        text-align: right;\n    }\n</style>\n<table border=\"1\" class=\"dataframe\">\n  <thead>\n    <tr style=\"text-align: right;\">\n      <th></th>\n      <th>Age</th>\n      <th>DateSpecimen</th>\n      <th>CityMunRes</th>\n      <th>RegionRes</th>\n      <th>Quarantined</th>\n      <th>HealthStatus</th>\n    </tr>\n  </thead>\n  <tbody>\n    <tr>\n      <th>0</th>\n      <td>44.0</td>\n      <td>09/14/2020</td>\n      <td>CITY OF MAKATI</td>\n      <td>NCR</td>\n      <td>NO</td>\n      <td>RECOVERED</td>\n    </tr>\n    <tr>\n      <th>1</th>\n      <td>35.0</td>\n      <td>09/23/2020</td>\n      <td>CITY OF MAKATI</td>\n      <td>NCR</td>\n      <td>NO</td>\n      <td>RECOVERED</td>\n    </tr>\n    <tr>\n      <th>2</th>\n      <td>25.0</td>\n      <td>09/22/2020</td>\n      <td>CITY OF MAKATI</td>\n      <td>NCR</td>\n      <td>NO</td>\n      <td>RECOVERED</td>\n    </tr>\n    <tr>\n      <th>3</th>\n      <td>59.0</td>\n      <td>09/11/2020</td>\n      <td>CITY OF MAKATI</td>\n      <td>NCR</td>\n      <td>NO</td>\n      <td>RECOVERED</td>\n    </tr>\n    <tr>\n      <th>4</th>\n      <td>51.0</td>\n      <td>09/24/2020</td>\n      <td>CITY OF MAKATI</td>\n      <td>NCR</td>\n      <td>YES</td>\n      <td>RECOVERED</td>\n    </tr>\n    <tr>\n      <th>...</th>\n      <td>...</td>\n      <td>...</td>\n      <td>...</td>\n      <td>...</td>\n      <td>...</td>\n      <td>...</td>\n    </tr>\n    <tr>\n      <th>1457</th>\n      <td>28.0</td>\n      <td>09/13/2020</td>\n      <td>CITY OF MAKATI</td>\n      <td>NCR</td>\n      <td>NO</td>\n      <td>RECOVERED</td>\n    </tr>\n    <tr>\n      <th>1458</th>\n      <td>24.0</td>\n      <td>09/10/2020</td>\n      <td>CITY OF MAKATI</td>\n      <td>NCR</td>\n      <td>NO</td>\n      <td>RECOVERED</td>\n    </tr>\n    <tr>\n      <th>1459</th>\n      <td>59.0</td>\n      <td>09/16/2020</td>\n      <td>CITY OF MAKATI</td>\n      <td>NCR</td>\n      <td>NO</td>\n      <td>RECOVERED</td>\n    </tr>\n    <tr>\n      <th>1460</th>\n      <td>30.0</td>\n      <td>10/05/2020</td>\n      <td>CITY OF MAKATI</td>\n      <td>NCR</td>\n      <td>NO</td>\n      <td>RECOVERED</td>\n    </tr>\n    <tr>\n      <th>1461</th>\n      <td>32.0</td>\n      <td>09/11/2020</td>\n      <td>CITY OF MAKATI</td>\n      <td>NCR</td>\n      <td>NO</td>\n      <td>RECOVERED</td>\n    </tr>\n  </tbody>\n</table>\n<p>1462 rows × 6 columns</p>\n</div>"
     },
     "metadata": {},
     "execution_count": 17
    }
   ],
   "source": [
    "mkt"
   ]
  },
  {
   "cell_type": "code",
   "execution_count": 18,
   "metadata": {},
   "outputs": [],
   "source": [
    "#1st City = QC\n",
    "qcHealth = qc['HealthStatus'].unique().tolist()\n",
    "qcDate = qc['DateSpecimen'].unique().tolist()\n",
    "qcQuar = qc['Quarantined'].unique().tolist()\n",
    "qcCity = qc['CityMunRes'].unique().tolist()\n",
    "qcReg = qc['RegionRes'].unique().tolist()\n",
    "\n",
    "#2nd City = MKT\n",
    "mktHealth = mkt['HealthStatus'].unique().tolist()\n",
    "mktDate = mkt['DateSpecimen'].unique().tolist()\n",
    "mktQuar = mkt['Quarantined'].unique().tolist()\n",
    "mktCity = mkt['CityMunRes'].unique().tolist()\n",
    "mktReg = mkt['RegionRes'].unique().tolist()\n",
    "\n",
    "#Overall\n",
    "uniHealth = df['HealthStatus'].unique().tolist()\n",
    "uniDate = df['DateSpecimen'].unique().tolist()\n",
    "uniQuar = df['Quarantined'].unique().tolist()\n",
    "uniCity = df['CityMunRes'].unique().tolist()"
   ]
  },
  {
   "cell_type": "code",
   "execution_count": 19,
   "metadata": {},
   "outputs": [],
   "source": [
    "#1st City = QC\n",
    "for i in range(len(qc)):\n",
    "    for l in qcHealth:\n",
    "        if qc['HealthStatus'][i] == l:\n",
    "            qc['HealthStatus'][i] = qcHealth.index(l)\n",
    "            \n",
    "    for m in qcDate:\n",
    "        if qc['DateSpecimen'][i] == m:\n",
    "            qc['DateSpecimen'][i] = qcDate.index(m)\n",
    "    \n",
    "    for n in qcQuar:\n",
    "        if qc['Quarantined'][i] == n:\n",
    "            qc['Quarantined'][i] = qcQuar.index(n)\n",
    "        \n",
    "    for o in qcCity:\n",
    "        if qc['CityMunRes'][i] == o:\n",
    "            qc['CityMunRes'][i] = qcCity.index(o)\n",
    "    \n",
    "    for p in qcReg:\n",
    "        if qc['RegionRes'][i] == p:\n",
    "            qc['RegionRes'][i] = qcReg.index(p)\n",
    "   \n",
    "#2nd City = Mkt\n",
    "for i in range(len(mkt)):\n",
    "    for l in mktHealth:\n",
    "        if mkt['HealthStatus'][i] == l:\n",
    "            mkt['HealthStatus'][i] = mktHealth.index(l)\n",
    "            \n",
    "    for m in uniDate:\n",
    "        if mkt['DateSpecimen'][i] == m:\n",
    "            mkt['DateSpecimen'][i] = mktDate.index(m)\n",
    "    \n",
    "    for n in mktQuar:\n",
    "        if mkt['Quarantined'][i] == n:\n",
    "            mkt['Quarantined'][i] = mktQuar.index(n)\n",
    "\n",
    "    for o in mktCity:\n",
    "        if mkt['CityMunRes'][i] == o:\n",
    "            mkt['CityMunRes'][i] = mktCity.index(o)\n",
    "    \n",
    "    for p in mktReg:\n",
    "        if mkt['RegionRes'][i] == p:\n",
    "            mkt['RegionRes'][i] = mktReg.index(p)"
   ]
  },
  {
   "cell_type": "code",
   "execution_count": 20,
   "metadata": {},
   "outputs": [],
   "source": [
    "#Overall\n",
    "for i in range(len(df)):\n",
    "    for l in uniHealth:\n",
    "        if df['HealthStatus'][i] == l:\n",
    "            df['HealthStatus'][i] = uniHealth.index(l)\n",
    "            \n",
    "    for m in uniDate:\n",
    "        if df['DateSpecimen'][i] == m:\n",
    "            df['DateSpecimen'][i] = uniDate.index(m)\n",
    "\n",
    "    for n in uniQuar:\n",
    "        if df['Quarantined'][i] == n:\n",
    "            df['Quarantined'][i] = uniQuar.index(n)\n",
    "    \n",
    "    for o in uniCity:\n",
    "        if df['CityMunRes'][i] == o:\n",
    "            df['CityMunRes'][i] = uniCity.index(o)"
   ]
  },
  {
   "cell_type": "code",
   "execution_count": 21,
   "metadata": {},
   "outputs": [
    {
     "output_type": "execute_result",
     "data": {
      "text/plain": [
       "      Age DateSpecimen CityMunRes RegionRes Quarantined HealthStatus\n",
       "0    29.0            0          0         0           0            0\n",
       "1    51.0            1          0         0           0            0\n",
       "2    22.0            0          0         0           0            0\n",
       "3    29.0            1          0         0           0            0\n",
       "4    63.0            2          0         0           0            0\n",
       "..    ...          ...        ...       ...         ...          ...\n",
       "446  33.0            9          0         0           0            0\n",
       "447  32.0            9          0         0           0            0\n",
       "448  19.0           13          0         0           0            0\n",
       "449  76.0            1          0         0           0            1\n",
       "450  53.0           19          0         0           0            0\n",
       "\n",
       "[451 rows x 6 columns]"
      ],
      "text/html": "<div>\n<style scoped>\n    .dataframe tbody tr th:only-of-type {\n        vertical-align: middle;\n    }\n\n    .dataframe tbody tr th {\n        vertical-align: top;\n    }\n\n    .dataframe thead th {\n        text-align: right;\n    }\n</style>\n<table border=\"1\" class=\"dataframe\">\n  <thead>\n    <tr style=\"text-align: right;\">\n      <th></th>\n      <th>Age</th>\n      <th>DateSpecimen</th>\n      <th>CityMunRes</th>\n      <th>RegionRes</th>\n      <th>Quarantined</th>\n      <th>HealthStatus</th>\n    </tr>\n  </thead>\n  <tbody>\n    <tr>\n      <th>0</th>\n      <td>29.0</td>\n      <td>0</td>\n      <td>0</td>\n      <td>0</td>\n      <td>0</td>\n      <td>0</td>\n    </tr>\n    <tr>\n      <th>1</th>\n      <td>51.0</td>\n      <td>1</td>\n      <td>0</td>\n      <td>0</td>\n      <td>0</td>\n      <td>0</td>\n    </tr>\n    <tr>\n      <th>2</th>\n      <td>22.0</td>\n      <td>0</td>\n      <td>0</td>\n      <td>0</td>\n      <td>0</td>\n      <td>0</td>\n    </tr>\n    <tr>\n      <th>3</th>\n      <td>29.0</td>\n      <td>1</td>\n      <td>0</td>\n      <td>0</td>\n      <td>0</td>\n      <td>0</td>\n    </tr>\n    <tr>\n      <th>4</th>\n      <td>63.0</td>\n      <td>2</td>\n      <td>0</td>\n      <td>0</td>\n      <td>0</td>\n      <td>0</td>\n    </tr>\n    <tr>\n      <th>...</th>\n      <td>...</td>\n      <td>...</td>\n      <td>...</td>\n      <td>...</td>\n      <td>...</td>\n      <td>...</td>\n    </tr>\n    <tr>\n      <th>446</th>\n      <td>33.0</td>\n      <td>9</td>\n      <td>0</td>\n      <td>0</td>\n      <td>0</td>\n      <td>0</td>\n    </tr>\n    <tr>\n      <th>447</th>\n      <td>32.0</td>\n      <td>9</td>\n      <td>0</td>\n      <td>0</td>\n      <td>0</td>\n      <td>0</td>\n    </tr>\n    <tr>\n      <th>448</th>\n      <td>19.0</td>\n      <td>13</td>\n      <td>0</td>\n      <td>0</td>\n      <td>0</td>\n      <td>0</td>\n    </tr>\n    <tr>\n      <th>449</th>\n      <td>76.0</td>\n      <td>1</td>\n      <td>0</td>\n      <td>0</td>\n      <td>0</td>\n      <td>1</td>\n    </tr>\n    <tr>\n      <th>450</th>\n      <td>53.0</td>\n      <td>19</td>\n      <td>0</td>\n      <td>0</td>\n      <td>0</td>\n      <td>0</td>\n    </tr>\n  </tbody>\n</table>\n<p>451 rows × 6 columns</p>\n</div>"
     },
     "metadata": {},
     "execution_count": 21
    }
   ],
   "source": [
    "qc"
   ]
  },
  {
   "cell_type": "code",
   "execution_count": 22,
   "metadata": {},
   "outputs": [],
   "source": [
    "qc[['HealthStatus', 'DateSpecimen', 'Quarantined', 'CityMunRes', 'RegionRes']] = qc[['HealthStatus', 'DateSpecimen', 'Quarantined', 'CityMunRes', 'RegionRes']].apply(pd.to_numeric)\n",
    "mkt[['HealthStatus', 'DateSpecimen', 'Quarantined', 'CityMunRes', 'RegionRes']] = mkt[['HealthStatus', 'DateSpecimen', 'Quarantined', 'CityMunRes', 'RegionRes']].apply(pd.to_numeric)\n",
    "\n",
    "#combined\n",
    "df[['HealthStatus', 'DateSpecimen', 'Quarantined', 'CityMunRes']] = df[['HealthStatus', 'DateSpecimen', 'Quarantined', 'CityMunRes']].apply(pd.to_numeric)"
   ]
  },
  {
   "cell_type": "code",
   "execution_count": 23,
   "metadata": {},
   "outputs": [
    {
     "output_type": "execute_result",
     "data": {
      "text/plain": [
       "                   Age  DateSpecimen  CityMunRes  RegionRes  Quarantined  \\\n",
       "Age           1.000000      0.126120         NaN        NaN    -0.052712   \n",
       "DateSpecimen  0.126120      1.000000         NaN        NaN     0.015937   \n",
       "CityMunRes         NaN           NaN         NaN        NaN          NaN   \n",
       "RegionRes          NaN           NaN         NaN        NaN          NaN   \n",
       "Quarantined  -0.052712      0.015937         NaN        NaN     1.000000   \n",
       "HealthStatus  0.056335      0.465905         NaN        NaN     0.111829   \n",
       "\n",
       "              HealthStatus  \n",
       "Age               0.056335  \n",
       "DateSpecimen      0.465905  \n",
       "CityMunRes             NaN  \n",
       "RegionRes              NaN  \n",
       "Quarantined       0.111829  \n",
       "HealthStatus      1.000000  "
      ],
      "text/html": "<div>\n<style scoped>\n    .dataframe tbody tr th:only-of-type {\n        vertical-align: middle;\n    }\n\n    .dataframe tbody tr th {\n        vertical-align: top;\n    }\n\n    .dataframe thead th {\n        text-align: right;\n    }\n</style>\n<table border=\"1\" class=\"dataframe\">\n  <thead>\n    <tr style=\"text-align: right;\">\n      <th></th>\n      <th>Age</th>\n      <th>DateSpecimen</th>\n      <th>CityMunRes</th>\n      <th>RegionRes</th>\n      <th>Quarantined</th>\n      <th>HealthStatus</th>\n    </tr>\n  </thead>\n  <tbody>\n    <tr>\n      <th>Age</th>\n      <td>1.000000</td>\n      <td>0.126120</td>\n      <td>NaN</td>\n      <td>NaN</td>\n      <td>-0.052712</td>\n      <td>0.056335</td>\n    </tr>\n    <tr>\n      <th>DateSpecimen</th>\n      <td>0.126120</td>\n      <td>1.000000</td>\n      <td>NaN</td>\n      <td>NaN</td>\n      <td>0.015937</td>\n      <td>0.465905</td>\n    </tr>\n    <tr>\n      <th>CityMunRes</th>\n      <td>NaN</td>\n      <td>NaN</td>\n      <td>NaN</td>\n      <td>NaN</td>\n      <td>NaN</td>\n      <td>NaN</td>\n    </tr>\n    <tr>\n      <th>RegionRes</th>\n      <td>NaN</td>\n      <td>NaN</td>\n      <td>NaN</td>\n      <td>NaN</td>\n      <td>NaN</td>\n      <td>NaN</td>\n    </tr>\n    <tr>\n      <th>Quarantined</th>\n      <td>-0.052712</td>\n      <td>0.015937</td>\n      <td>NaN</td>\n      <td>NaN</td>\n      <td>1.000000</td>\n      <td>0.111829</td>\n    </tr>\n    <tr>\n      <th>HealthStatus</th>\n      <td>0.056335</td>\n      <td>0.465905</td>\n      <td>NaN</td>\n      <td>NaN</td>\n      <td>0.111829</td>\n      <td>1.000000</td>\n    </tr>\n  </tbody>\n</table>\n</div>"
     },
     "metadata": {},
     "execution_count": 23
    }
   ],
   "source": [
    "qc.corr(method='pearson')"
   ]
  },
  {
   "cell_type": "code",
   "execution_count": 24,
   "metadata": {},
   "outputs": [],
   "source": [
    "cols = qc.loc[:, 'Age':'Quarantined'].columns.to_list()\n",
    "x = qc[['Age','Quarantined']]\n",
    "y = qc['HealthStatus']"
   ]
  },
  {
   "cell_type": "code",
   "execution_count": 25,
   "metadata": {},
   "outputs": [],
   "source": [
    "x_train, x_test, y_train, y_test = train_test_split(x, y, test_size = 0.2)"
   ]
  },
  {
   "cell_type": "code",
   "execution_count": 26,
   "metadata": {},
   "outputs": [],
   "source": [
    "clf = DecisionTreeClassifier()"
   ]
  },
  {
   "cell_type": "code",
   "execution_count": 27,
   "metadata": {},
   "outputs": [],
   "source": [
    "#logreg.fit(x_train, y_train)\n",
    "#logreg2.fit(x_train2, y_train2)\n",
    "clf = clf.fit(x_train,y_train)"
   ]
  },
  {
   "cell_type": "code",
   "execution_count": 28,
   "metadata": {},
   "outputs": [
    {
     "output_type": "execute_result",
     "data": {
      "text/plain": [
       "array([2], dtype=int64)"
      ]
     },
     "metadata": {},
     "execution_count": 28
    }
   ],
   "source": [
    "y_pred = clf.predict([[94,1]]) #if age = 84, dead\n",
    "y_pred"
   ]
  },
  {
   "cell_type": "code",
   "execution_count": 29,
   "metadata": {},
   "outputs": [],
   "source": [
    "def prediction(x,y):\n",
    "    tree = DecisionTreeClassifier()\n",
    "    tree = tree.fit(x_test,y_test)\n",
    "    y_pred = clf.predict([[x,y]])\n",
    "    return y_pred"
   ]
  },
  {
   "cell_type": "code",
   "execution_count": 30,
   "metadata": {},
   "outputs": [
    {
     "output_type": "execute_result",
     "data": {
      "text/plain": [
       "array([0], dtype=int64)"
      ]
     },
     "metadata": {},
     "execution_count": 30
    }
   ],
   "source": [
    "userInput = input('Enter Quarantine Status: ')\n",
    "userInput = userInput.lower()\n",
    "toPred = -1\n",
    "\n",
    "if userInput == 'yes':\n",
    "    toPred = 0\n",
    "    \n",
    "elif userInput == 'no':\n",
    "    toPred = 1\n",
    "\n",
    "prediction(21,toPred)"
   ]
  },
  {
   "cell_type": "code",
   "execution_count": 31,
   "metadata": {},
   "outputs": [
    {
     "output_type": "error",
     "ename": "ValueError",
     "evalue": "Found input variables with inconsistent numbers of samples: [91, 1]",
     "traceback": [
      "\u001b[1;31m---------------------------------------------------------------------------\u001b[0m",
      "\u001b[1;31mValueError\u001b[0m                                Traceback (most recent call last)",
      "\u001b[1;32m<ipython-input-31-9c1a85aed3e7>\u001b[0m in \u001b[0;36m<module>\u001b[1;34m\u001b[0m\n\u001b[1;32m----> 1\u001b[1;33m \u001b[0mmatrix\u001b[0m \u001b[1;33m=\u001b[0m \u001b[0mmetrics\u001b[0m\u001b[1;33m.\u001b[0m\u001b[0mconfusion_matrix\u001b[0m\u001b[1;33m(\u001b[0m\u001b[0my_test\u001b[0m\u001b[1;33m,\u001b[0m \u001b[0my_pred\u001b[0m\u001b[1;33m)\u001b[0m\u001b[1;33m\u001b[0m\u001b[1;33m\u001b[0m\u001b[0m\n\u001b[0m\u001b[0;32m      2\u001b[0m \u001b[0mmatrix\u001b[0m\u001b[1;33m\u001b[0m\u001b[1;33m\u001b[0m\u001b[0m\n",
      "\u001b[1;32mE:\\Coding\\Anaconda\\lib\\site-packages\\sklearn\\utils\\validation.py\u001b[0m in \u001b[0;36minner_f\u001b[1;34m(*args, **kwargs)\u001b[0m\n\u001b[0;32m     71\u001b[0m                           FutureWarning)\n\u001b[0;32m     72\u001b[0m         \u001b[0mkwargs\u001b[0m\u001b[1;33m.\u001b[0m\u001b[0mupdate\u001b[0m\u001b[1;33m(\u001b[0m\u001b[1;33m{\u001b[0m\u001b[0mk\u001b[0m\u001b[1;33m:\u001b[0m \u001b[0marg\u001b[0m \u001b[1;32mfor\u001b[0m \u001b[0mk\u001b[0m\u001b[1;33m,\u001b[0m \u001b[0marg\u001b[0m \u001b[1;32min\u001b[0m \u001b[0mzip\u001b[0m\u001b[1;33m(\u001b[0m\u001b[0msig\u001b[0m\u001b[1;33m.\u001b[0m\u001b[0mparameters\u001b[0m\u001b[1;33m,\u001b[0m \u001b[0margs\u001b[0m\u001b[1;33m)\u001b[0m\u001b[1;33m}\u001b[0m\u001b[1;33m)\u001b[0m\u001b[1;33m\u001b[0m\u001b[1;33m\u001b[0m\u001b[0m\n\u001b[1;32m---> 73\u001b[1;33m         \u001b[1;32mreturn\u001b[0m \u001b[0mf\u001b[0m\u001b[1;33m(\u001b[0m\u001b[1;33m**\u001b[0m\u001b[0mkwargs\u001b[0m\u001b[1;33m)\u001b[0m\u001b[1;33m\u001b[0m\u001b[1;33m\u001b[0m\u001b[0m\n\u001b[0m\u001b[0;32m     74\u001b[0m     \u001b[1;32mreturn\u001b[0m \u001b[0minner_f\u001b[0m\u001b[1;33m\u001b[0m\u001b[1;33m\u001b[0m\u001b[0m\n\u001b[0;32m     75\u001b[0m \u001b[1;33m\u001b[0m\u001b[0m\n",
      "\u001b[1;32mE:\\Coding\\Anaconda\\lib\\site-packages\\sklearn\\metrics\\_classification.py\u001b[0m in \u001b[0;36mconfusion_matrix\u001b[1;34m(y_true, y_pred, labels, sample_weight, normalize)\u001b[0m\n\u001b[0;32m    274\u001b[0m \u001b[1;33m\u001b[0m\u001b[0m\n\u001b[0;32m    275\u001b[0m     \"\"\"\n\u001b[1;32m--> 276\u001b[1;33m     \u001b[0my_type\u001b[0m\u001b[1;33m,\u001b[0m \u001b[0my_true\u001b[0m\u001b[1;33m,\u001b[0m \u001b[0my_pred\u001b[0m \u001b[1;33m=\u001b[0m \u001b[0m_check_targets\u001b[0m\u001b[1;33m(\u001b[0m\u001b[0my_true\u001b[0m\u001b[1;33m,\u001b[0m \u001b[0my_pred\u001b[0m\u001b[1;33m)\u001b[0m\u001b[1;33m\u001b[0m\u001b[1;33m\u001b[0m\u001b[0m\n\u001b[0m\u001b[0;32m    277\u001b[0m     \u001b[1;32mif\u001b[0m \u001b[0my_type\u001b[0m \u001b[1;32mnot\u001b[0m \u001b[1;32min\u001b[0m \u001b[1;33m(\u001b[0m\u001b[1;34m\"binary\"\u001b[0m\u001b[1;33m,\u001b[0m \u001b[1;34m\"multiclass\"\u001b[0m\u001b[1;33m)\u001b[0m\u001b[1;33m:\u001b[0m\u001b[1;33m\u001b[0m\u001b[1;33m\u001b[0m\u001b[0m\n\u001b[0;32m    278\u001b[0m         \u001b[1;32mraise\u001b[0m \u001b[0mValueError\u001b[0m\u001b[1;33m(\u001b[0m\u001b[1;34m\"%s is not supported\"\u001b[0m \u001b[1;33m%\u001b[0m \u001b[0my_type\u001b[0m\u001b[1;33m)\u001b[0m\u001b[1;33m\u001b[0m\u001b[1;33m\u001b[0m\u001b[0m\n",
      "\u001b[1;32mE:\\Coding\\Anaconda\\lib\\site-packages\\sklearn\\metrics\\_classification.py\u001b[0m in \u001b[0;36m_check_targets\u001b[1;34m(y_true, y_pred)\u001b[0m\n\u001b[0;32m     79\u001b[0m     \u001b[0my_pred\u001b[0m \u001b[1;33m:\u001b[0m \u001b[0marray\u001b[0m \u001b[1;32mor\u001b[0m \u001b[0mindicator\u001b[0m \u001b[0mmatrix\u001b[0m\u001b[1;33m\u001b[0m\u001b[1;33m\u001b[0m\u001b[0m\n\u001b[0;32m     80\u001b[0m     \"\"\"\n\u001b[1;32m---> 81\u001b[1;33m     \u001b[0mcheck_consistent_length\u001b[0m\u001b[1;33m(\u001b[0m\u001b[0my_true\u001b[0m\u001b[1;33m,\u001b[0m \u001b[0my_pred\u001b[0m\u001b[1;33m)\u001b[0m\u001b[1;33m\u001b[0m\u001b[1;33m\u001b[0m\u001b[0m\n\u001b[0m\u001b[0;32m     82\u001b[0m     \u001b[0mtype_true\u001b[0m \u001b[1;33m=\u001b[0m \u001b[0mtype_of_target\u001b[0m\u001b[1;33m(\u001b[0m\u001b[0my_true\u001b[0m\u001b[1;33m)\u001b[0m\u001b[1;33m\u001b[0m\u001b[1;33m\u001b[0m\u001b[0m\n\u001b[0;32m     83\u001b[0m     \u001b[0mtype_pred\u001b[0m \u001b[1;33m=\u001b[0m \u001b[0mtype_of_target\u001b[0m\u001b[1;33m(\u001b[0m\u001b[0my_pred\u001b[0m\u001b[1;33m)\u001b[0m\u001b[1;33m\u001b[0m\u001b[1;33m\u001b[0m\u001b[0m\n",
      "\u001b[1;32mE:\\Coding\\Anaconda\\lib\\site-packages\\sklearn\\utils\\validation.py\u001b[0m in \u001b[0;36mcheck_consistent_length\u001b[1;34m(*arrays)\u001b[0m\n\u001b[0;32m    254\u001b[0m     \u001b[0muniques\u001b[0m \u001b[1;33m=\u001b[0m \u001b[0mnp\u001b[0m\u001b[1;33m.\u001b[0m\u001b[0munique\u001b[0m\u001b[1;33m(\u001b[0m\u001b[0mlengths\u001b[0m\u001b[1;33m)\u001b[0m\u001b[1;33m\u001b[0m\u001b[1;33m\u001b[0m\u001b[0m\n\u001b[0;32m    255\u001b[0m     \u001b[1;32mif\u001b[0m \u001b[0mlen\u001b[0m\u001b[1;33m(\u001b[0m\u001b[0muniques\u001b[0m\u001b[1;33m)\u001b[0m \u001b[1;33m>\u001b[0m \u001b[1;36m1\u001b[0m\u001b[1;33m:\u001b[0m\u001b[1;33m\u001b[0m\u001b[1;33m\u001b[0m\u001b[0m\n\u001b[1;32m--> 256\u001b[1;33m         raise ValueError(\"Found input variables with inconsistent numbers of\"\n\u001b[0m\u001b[0;32m    257\u001b[0m                          \" samples: %r\" % [int(l) for l in lengths])\n\u001b[0;32m    258\u001b[0m \u001b[1;33m\u001b[0m\u001b[0m\n",
      "\u001b[1;31mValueError\u001b[0m: Found input variables with inconsistent numbers of samples: [91, 1]"
     ]
    }
   ],
   "source": [
    "matrix = metrics.confusion_matrix(y_test, y_pred)\n",
    "matrix"
   ]
  },
  {
   "cell_type": "code",
   "execution_count": null,
   "metadata": {},
   "outputs": [],
   "source": [
    "print(classification_report(y_test,y_pred))"
   ]
  },
  {
   "cell_type": "code",
   "execution_count": null,
   "metadata": {},
   "outputs": [],
   "source": [
    "import seaborn as sns"
   ]
  },
  {
   "cell_type": "code",
   "execution_count": null,
   "metadata": {},
   "outputs": [],
   "source": [
    "plt.figure(figsize=(10,10))\n",
    "ax = sns.heatmap(pd.DataFrame(matrix), annot=True, cmap=\"coolwarm\",fmt='g')\n",
    "ax.xaxis.set_label_position(\"top\")\n",
    "ax.set_xticklabels([qcHealth[0],mktHealth[1],mktHealth[2]])\n",
    "ax.set_yticklabels([qcHealth[0],mktHealth[1],mktHealth[2]])\n",
    "plt.title('Matrix')\n",
    "plt.show()"
   ]
  },
  {
   "cell_type": "code",
   "execution_count": null,
   "metadata": {},
   "outputs": [],
   "source": [
    "plt.figure(figsize=(10,10))\n",
    "sns.regplot(qc['HealthStatus'],qc['Age'],data=qc)"
   ]
  },
  {
   "cell_type": "code",
   "execution_count": null,
   "metadata": {},
   "outputs": [],
   "source": []
  }
 ],
 "metadata": {
  "kernelspec": {
   "display_name": "Python 3",
   "language": "python",
   "name": "python3"
  },
  "language_info": {
   "codemirror_mode": {
    "name": "ipython",
    "version": 3
   },
   "file_extension": ".py",
   "mimetype": "text/x-python",
   "name": "python",
   "nbconvert_exporter": "python",
   "pygments_lexer": "ipython3",
   "version": "3.8.3-final"
  }
 },
 "nbformat": 4,
 "nbformat_minor": 4
}